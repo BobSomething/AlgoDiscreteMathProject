{
 "cells": [
  {
   "cell_type": "markdown",
   "metadata": {},
   "source": [
    "<img src='./figures/logo-ecole-polytechnique-ve.jpg' style='position:absolute; top:0; right:0;' width='100px' height='' alt='' />\n",
    "\n",
    "<center>**Bachelor of Ecole Polytechnique**</center>\n",
    "<center>Computational Mathematics, year 2, semester 1</center>\n",
    "<center>Lecturer: Lucas Gerin <a href=\"mailto:lucas.gerin@polytechnique.edu\">(send mail)</a></center>\n",
    "\n",
    "\n",
    "# Project 2: Catalan numbers"
   ]
  },
  {
   "cell_type": "markdown",
   "metadata": {},
   "source": [
    "<div markdown=1 class=Abstract>\n",
    "\n",
    "* 30% Recursion\n",
    "* 20% Combinatorics\n",
    "* 20% Asymptotics\n",
    "* 20% SymPy\n",
    "* 10% Generating functions\n"
   ]
  },
  {
   "cell_type": "markdown",
   "metadata": {},
   "source": [
    "## Table of contents\n",
    "\n",
    "- [Computing Catalan numbers](#Computing)\n",
    "- Dealing with large Catalan numbers\n",
    "  * [Length of Catalan numbers](#Asymptotics)\n",
    "- [Catalan and generating functions](#CatalanGF)\n",
    "- [Combinatorial interpretations of Catalan numbers](#Combinatorial)\n",
    "  * [Paths in a triangle](#Triangle)\n",
    "  * [Well-formed parentheses expressions](#Parentheses)\n",
    "  * [Binary trees](#Trees)\n",
    "- [Catalan and modulos: the Bostan Conjecture](#Bostan)\n",
    "- [Closed Formula](#closed)\n",
    "- [More on asymptotic analysis](#Asymptotics2)\n",
    "- [Divisibility of Catalan numbers](#divisible)\n",
    "- [Miscellaneous](#Miscellaneous)"
   ]
  },
  {
   "cell_type": "code",
   "execution_count": 1,
   "metadata": {},
   "outputs": [
    {
     "data": {
      "text/html": [
       "<link href='http://fonts.googleapis.com/css?family=Fenix' rel='stylesheet' type='text/css'>\n",
       "<link href='http://fonts.googleapis.com/css?family=Alegreya+Sans:100,300,400,500,700,800,900,100italic,300italic,400italic,500italic,700italic,800italic,900italic' rel='stylesheet' type='text/css'>\n",
       "<link href='http://fonts.googleapis.com/css?family=Source+Code+Pro:300,400' rel='stylesheet' type='text/css'>\n",
       "<link href=\"https://fonts.googleapis.com/css?family=Oswald|Raleway\" rel=\"stylesheet\" type='text/css'> \n",
       "<style>\n",
       ".prompt{\n",
       "    display: none !important;\n",
       "}\n",
       "\n",
       ".rendered_html pre {\n",
       "    border: 1px solid #f0f6f9 !important;\n",
       "}\n",
       "\n",
       ".rendered_html pre, .rendered_html code {\n",
       "    background-color: #d3d8db !important;\n",
       "    padding: 1% !important;\n",
       "    line-height: 200% !important;\n",
       "    border-radius: 10px !important;\n",
       "}\n",
       "\n",
       "div.input_area {\n",
       "    border-radius: 10px !important;\n",
       "    background-color: #e1e1e6 !important;\n",
       "}\n",
       "\n",
       "div.cell{\n",
       "        width:85% !important;\n",
       "        margin-left:5% !important;\n",
       "        /*margin-right:auto;*/\n",
       "    }\n",
       "    h1, h2, h3, h4, h5 {\n",
       "        font-family: 'Oswald', sans-serif; !important;\n",
       "        font-style: oblique !important;\n",
       "    }\n",
       "    div.text_cell_render{\n",
       "        font-family: 'Raleway', sans-serif; !important;\n",
       "        line-height: 135% !important;\n",
       "        font-size: 120% !important;\n",
       "        width:100%;/*600px;*/\n",
       "        /*margin-left:auto;*/\n",
       "        /*margin-right:auto;*/\n",
       "    }\n",
       "    .CodeMirror{\n",
       "            font-family: \"Source Code Pro\" !important;\n",
       "\t\t\tfont-size: 100% !important;\n",
       "    }\n",
       "    .text_cell_render p{\n",
       "        text-align: justify !important;\n",
       "    }\n",
       "    .text_cell_render h1 {\n",
       "        font-weight: 200 !important;\n",
       "\t\tline-height: 100% !important;\n",
       "        color:#47597A !important;\n",
       "        margin-bottom: 10.em !important;\n",
       "        margin-top: 50.em !important;\n",
       "        padding-bottom: 50.em !important;\n",
       "        padding-top: 50.em !important;\n",
       "        display: block !important;\n",
       "        font-size: 300% !important;\n",
       "        text-align: center !important;\n",
       "        border-bottom: 1px solid #47597A !important;\n",
       "        border-top: 1px solid #47597A !important;\n",
       "    }\n",
       "    .text_cell_render h2 {\n",
       "        font-weight: 200 !important;\n",
       "\tline-height: 100% !important;\n",
       "        color:#47597A !important;\n",
       "        margin-bottom: 0.5em !important;\n",
       "        margin-top: 0.5em !important;\n",
       "        display: block !important;\n",
       "        font-size: 200% !important;\n",
       "        border-bottom: 1px solid #47597A !important;\n",
       "    }\n",
       "    .text_cell_render h3 {\n",
       "        font-weight: 200 !important;\n",
       "\tline-height: 100% !important;\n",
       "        color:#47597A !important;\n",
       "        margin-bottom: 0.5em !important;\n",
       "        margin-top: 0.5em !important;\n",
       "        display: block !important;\n",
       "        font-size: 150% !important;\n",
       "    }\n",
       "    .text_cell_render h4 {\n",
       "        font-style: italic !important;\n",
       "        font-weight: bold !important;\n",
       "\tline-height: 100% !important;\n",
       "        color:#47597A !important;\n",
       "        display: block !important;\n",
       "        font-size: 100% !important;\n",
       "    }\n",
       "    .text_cell_render h5 {\n",
       "        font-weight: 200 !important;\n",
       "\tline-height: 100% !important;\n",
       "        color:#47597A !important;\n",
       "        margin-bottom: 0.5em !important;\n",
       "        margin-top: 0.5em !important;\n",
       "        display: block !important;\n",
       "        font-size: 100% !important;\n",
       "    }\n",
       "    .text_cell_render ul {\n",
       "\tlist-style-type: disc !important;\n",
       "\tline-height: 2;\n",
       "\t/*color:#47597A !important;*/\n",
       "    }\n",
       "    .warning{\n",
       "        color: rgb( 240, 20, 20 ) !important;\n",
       "        }\n",
       "    .Abstract {  \n",
       "\ttext-align: justify;\n",
       "\tbackground-color: #d6edf9;\n",
       "\tborder-left: 5px solid #47597A;\n",
       "\tpadding: 0.5em;\n",
       "\tmargin: 0  150px 0 150px;\n",
       "    }\n",
       "    .Def {    \n",
       "\tbackground-color: #d9f7d7;\n",
       "\tborder-left: 5px solid #4a7047;\n",
       "\tpadding: 0.5em;\n",
       "    }\n",
       "    .Def:before {\n",
       "\tcontent: \"Definition.\";\n",
       "\tcolor:#4a7047;\n",
       "\tfont-weight: bold;\n",
       "\tfont-style: normal;\n",
       "    }\n",
       "    .DoIt {    \n",
       "\tbackground-color: #A9F5BC;\n",
       "\tborder-left: 5px solid #0A2A12;\n",
       "\tpadding: 0.5em;\n",
       "    }\n",
       "    .DoIt:before {\n",
       "\tcontent: \"Suggestion.\";\n",
       "\tcolor:#0A2A12;\n",
       "\tfont-weight: bold;\n",
       "\tfont-style: normal;\n",
       "    }\n",
       "    .Answers {    \n",
       "\tbackground-color: #DDA0DD;\n",
       "\tborder-left: 5px solid #9932CC;\n",
       "\tpadding: 0.5em;\n",
       "    }\n",
       "    .Answers:before {\n",
       "\tcontent: \"Answers.\";\n",
       "\tcolor:#682145;\n",
       "\tfont-weight: bold;\n",
       "\tfont-style: normal;\n",
       "    }\n",
       "    .Prop {    \n",
       "\tbackground-color:#f9ecd1;\n",
       "\tborder-left: 5px solid #ba7021;\n",
       "\tpadding: 0.5em;\n",
       "    }\n",
       "   .Prop:before {\n",
       "       content: \"Further questions.\";\n",
       "       color:#ba7021;\n",
       "       font-weight: bold;\n",
       "       font-style: normal;\n",
       "    }\n",
       "   .Thm {    \n",
       "\tbackground-color:#f9ecd1;\n",
       "\tborder-left: 5px solid #ba7021;\n",
       "\tpadding: 0.5em;\n",
       "    }\n",
       "   .Thm:before {\n",
       "       content: \"Theorem.\";\n",
       "       color:#ba7021;\n",
       "       font-weight: bold;\n",
       "       font-style: normal;\n",
       "    } \n",
       "   .Algo {    \n",
       "\tbackground-color:#f9ecd1;\n",
       "\tborder-left: 5px solid #ba7021;\n",
       "\tpadding: 0.5em;\n",
       "    }\n",
       "   .Algo:before {\n",
       "       content: \"Algorithm.\";\n",
       "       color:#ba7021;\n",
       "       font-weight: bold;\n",
       "       font-style: normal;\n",
       "    }\n",
       "    .Rmk {    \n",
       "\tbackground-color: #dbf1fc;\n",
       "\tborder-left: 5px solid #385487;\n",
       "\tpadding: 0.5em;\n",
       "    }\n",
       "    .Rmk:before {\n",
       "\tcontent: \"Remark.\";\n",
       "\tcolor:#385487;\n",
       "\tfont-weight: bold;\n",
       "\tfont-style: normal;\n",
       "    }\n",
       "    .Ex {    \n",
       "\tbackground-color: #dbf1fc;\n",
       "\tborder-left: 5px solid #385487;\n",
       "\tpadding: 0.5em;\n",
       "    }\n",
       "    .Ex:before {\n",
       "\tcontent: \"Example.\";\n",
       "\tcolor:#385487;\n",
       "\tfont-weight: bold;\n",
       "\tfont-style: normal;\n",
       "    }\n",
       "\n",
       "/*    .toc-item-num {\n",
       "#        display: none;\n",
       "#    }\n",
       "*/\n",
       "    .reveal section img{\n",
       "        margin: 0px auto;\n",
       "    }\n",
       "\n",
       "    div.output_area img{\n",
       "        display: block;\n",
       "        margin: 0px auto;\n",
       "    }\n",
       "  \n",
       "</style>\n",
       "\n",
       "<script>\n",
       "MathJax.Hub.Config({\n",
       "TeX: {extensions: [\"AMSmath.js\"] },\n",
       "                tex2jax: {\n",
       "                    inlineMath: [ ['$','$'], [\"\\\\(\",\"\\\\)\"] ],\n",
       "                    displayMath: [ ['$$','$$'], [\"\\\\[\",\"\\\\]\"] ]\n",
       "                },\n",
       "                displayAlign: 'center', // Change this to 'center' to center equations.\n",
       "                \"HTML-CSS\": {\n",
       "                    styles: {'.MathJax_Display': {\"margin\": 4}}\n",
       "                }\n",
       "        });\n",
       "\n",
       "\n",
       "\n",
       "</script>\n"
      ],
      "text/plain": [
       "<IPython.core.display.HTML object>"
      ]
     },
     "execution_count": 1,
     "metadata": {},
     "output_type": "execute_result"
    }
   ],
   "source": [
    "# execute this part to modify the css style\n",
    "from IPython.core.display import HTML\n",
    "def css_styling():\n",
    "    styles = open(\"./style/customProject.css\").read()\n",
    "    return HTML(styles)\n",
    "css_styling()\n"
   ]
  },
  {
   "cell_type": "code",
   "execution_count": 2,
   "metadata": {},
   "outputs": [],
   "source": [
    "## loading python libraries\n",
    "\n",
    "# necessary to display plots inline:\n",
    "%matplotlib inline   \n",
    "\n",
    "# load the libraries\n",
    "import matplotlib.pyplot as plt # 2D plotting library\n",
    "import numpy as np              # package for scientific computing  \n",
    "from pylab import *\n",
    "\n",
    "from math import *              # package for mathematics (pi, arctan, sqrt, factorial ...)\n",
    "import sympy as sympy             # package for symbolic computation\n",
    "from sympy import *\n"
   ]
  },
  {
   "cell_type": "markdown",
   "metadata": {},
   "source": [
    "Here are two cells that you can copy/paste throughout the Notebook:"
   ]
  },
  {
   "cell_type": "markdown",
   "metadata": {},
   "source": [
    "<div markdown=1 class=\"Answers\"> \n",
    "<i>Your answer.</i>"
   ]
  },
  {
   "cell_type": "markdown",
   "metadata": {},
   "source": [
    "<div markdown=1 class=\"Prop\"> \n",
    "<i>In this cell you can add your own additional questions (math or python).</i>"
   ]
  },
  {
   "cell_type": "markdown",
   "metadata": {},
   "source": [
    "<a id=\"Computing\"></a>\n",
    "# Computing Catalan numbers"
   ]
  },
  {
   "cell_type": "markdown",
   "metadata": {},
   "source": [
    "The <a href=\"https://en.wikipedia.org/wiki/Catalan_number\">Catalan numbers</a> $c_0,c_1,c_2,\\dots$ are defined recursively as follows:\n",
    "\\begin{align*}\n",
    "c_0&=1\\\\\n",
    "c_1&=1\\\\\n",
    "c_n&=\\sum_{k=0}^{n-1} c_kc_{n-1-k}=c_0c_{n-1}+c_1c_{n-2}+\\dots +c_{n-1}c_0 \\qquad (\\text{ for }n\\geq 2). \\tag{$\\star$}\n",
    "\\end{align*}\n",
    "For instance,\n",
    "\\begin{align*}\n",
    "c_2&=c_0c_1+c_1c_0=1\\times 1+1\\times 1=2,\\\\\n",
    "c_3&=c_0c_2+c_1c_1+c_2c_0=1\\times 2+1\\times 1+2\\times 1=5,\\\\\n",
    "\\dots\n",
    "\\end{align*}\n"
   ]
  },
  {
   "cell_type": "markdown",
   "metadata": {},
   "source": [
    "<div markdown=1 class=\"DoIt\"> \n",
    "\n",
    "1. Write a recursive function `CatalanRecursive(n)` which returns the $n$-th Catalan number.\n",
    "2. Write a non recursive function `CatalanNotRecursive(n)` which returns the $n$-th Catalan number.<br>\n",
    "<i>(You must also use recursive formula ($\\star$) but your function `CatalanNotRecursive(n)` should not call itself.)</i>"
   ]
  },
  {
   "cell_type": "markdown",
   "metadata": {},
   "source": [
    "<div markdown=1 style=\"background-color: #f7b2eb; border-left: 5px solid #bf15a0; padding: 0.5em; color:#0A2A12; font-weight: bold;font-style: normal;\"> \n",
    "Recursive Algorithm $c_n$:"
   ]
  },
  {
   "cell_type": "code",
   "execution_count": 3,
   "metadata": {},
   "outputs": [],
   "source": [
    "def CatalanRecursive(n):\n",
    "    if n <= 1:\n",
    "        return 1\n",
    "    S = 0\n",
    "    for k in range(n):\n",
    "        S += CatalanRecursive(k)*CatalanRecursive(n-1-k)\n",
    "    return S"
   ]
  },
  {
   "cell_type": "markdown",
   "metadata": {},
   "source": [
    "<div markdown=1 style=\"background-color: #f7b2eb; border-left: 5px solid #bf15a0; padding: 0.5em; color:#0A2A12; font-weight: bold;font-style: normal;\"> \n",
    "DP Algorithm $c_n$:"
   ]
  },
  {
   "cell_type": "code",
   "execution_count": 4,
   "metadata": {},
   "outputs": [],
   "source": [
    "def CatalanNotRecursive(n):\n",
    "    c = [1,1]\n",
    "    for k in range(2,n+1):\n",
    "        c.append(0)\n",
    "        for i in range(k):\n",
    "            c[-1] += c[i]*c[k-i-1]\n",
    "    return c[-1]"
   ]
  },
  {
   "cell_type": "markdown",
   "metadata": {},
   "source": [
    "<div markdown=1 style=\"background-color: #f7b2eb; border-left: 5px solid #bf15a0; padding: 0.5em; color:#0A2A12; font-weight: bold;font-style: normal;\"> \n",
    "Storage of Catalan numbers in $\\texttt{Cat}$:"
   ]
  },
  {
   "cell_type": "code",
   "execution_count": 58,
   "metadata": {},
   "outputs": [],
   "source": [
    "Cat = [1,1]\n",
    "def CatalanFillTable(n):\n",
    "    for k in range(2,n+1):\n",
    "        Cat.append(0)\n",
    "        for i in range(k):\n",
    "            Cat[-1] += Cat[i]*Cat[k-i-1]\n",
    "CatalanFillTable(1000)"
   ]
  },
  {
   "cell_type": "markdown",
   "metadata": {},
   "source": [
    "<div markdown=1 style=\"background-color: #f7b2eb; border-left: 5px solid #bf15a0; padding: 0.5em; color:#0A2A12; font-weight: bold;font-style: normal;\"> \n",
    "Checking the implementation of algorithms:"
   ]
  },
  {
   "cell_type": "code",
   "execution_count": 59,
   "metadata": {},
   "outputs": [
    {
     "name": "stdout",
     "output_type": "stream",
     "text": [
      "c_0 = 1, 1\n",
      "c_1 = 1, 1\n",
      "c_2 = 2, 2\n",
      "c_3 = 5, 5\n",
      "c_4 = 14, 14\n",
      "c_5 = 42, 42\n",
      "c_6 = 132, 132\n",
      "c_7 = 429, 429\n",
      "c_8 = 1430, 1430\n",
      "c_9 = 4862, 4862\n"
     ]
    }
   ],
   "source": [
    "N = 10\n",
    "for n in range(N):\n",
    "    print(f\"c_{n} = {CatalanRecursive(n)}, {CatalanNotRecursive(n)}\")"
   ]
  },
  {
   "cell_type": "markdown",
   "metadata": {},
   "source": [
    "<div markdown=1 class=\"DoIt\"> \n",
    "Compare the execution times of your different functions computing the Catalan numbers (say, for $1\\leq n\\leq 15$).<br>\n",
    "You can import the `time` library:\n",
    "\n",
    "```\n",
    "import time\n",
    "```"
   ]
  },
  {
   "cell_type": "markdown",
   "metadata": {},
   "source": [
    "<div markdown=1 style=\"background-color: #f7b2eb; border-left: 5px solid #bf15a0; padding: 0.5em; color:#0A2A12; font-weight: bold;font-style: normal;\"> \n",
    "Comparing the algorithms:"
   ]
  },
  {
   "cell_type": "code",
   "execution_count": 60,
   "metadata": {},
   "outputs": [
    {
     "name": "stdout",
     "output_type": "stream",
     "text": [
      "N = 17\n",
      "Recursive Algorithm : 3.795330047607422\n",
      "DP Algorithm : 0.0\n"
     ]
    }
   ],
   "source": [
    "import time\n",
    "\n",
    "N = 17\n",
    "print(f'N = {N}')\n",
    "start = time.time()\n",
    "CatalanRecursive(N)\n",
    "end = time.time()\n",
    "print(f'Recursive Algorithm : {end - start}')\n",
    "\n",
    "start = time.time()\n",
    "CatalanNotRecursive(N)\n",
    "end = time.time()\n",
    "print(f'DP Algorithm : {end - start}')\n"
   ]
  },
  {
   "cell_type": "markdown",
   "metadata": {},
   "source": [
    "<div markdown=1 class=\"Rmk\"><a id=\"EquationE\"></a> \n",
    "It can be proved that for every $n$\n",
    "$$\n",
    "c_{n}=\\frac{1}{n+1}\\binom{2n}{n}. \\tag{E}\n",
    "$$\n",
    "You may try to use this formula to write another non-recursive function which returns $c_n$. Yet the formula (E) will not be useful for the rest of the project."
   ]
  },
  {
   "cell_type": "markdown",
   "metadata": {},
   "source": [
    "<div markdown=1 class=\"Answers\"> \n",
    "The proof of this formula will be presented at later."
   ]
  },
  {
   "cell_type": "markdown",
   "metadata": {},
   "source": [
    "<div markdown=1 style=\"background-color: #f7b2eb; border-left: 5px solid #bf15a0; padding: 0.5em; color:#0A2A12; font-weight: bold;font-style: normal;\"> \n",
    "Closed Formula Algorithm:"
   ]
  },
  {
   "cell_type": "code",
   "execution_count": 61,
   "metadata": {},
   "outputs": [],
   "source": [
    "def CatalanClosed(n):\n",
    "    return sympy.binomial(2*n,n)//(n+1)"
   ]
  },
  {
   "cell_type": "markdown",
   "metadata": {},
   "source": [
    "<div markdown=1 style=\"background-color: #f7b2eb; border-left: 5px solid #bf15a0; padding: 0.5em; color:#0A2A12; font-weight: bold;font-style: normal;\"> \n",
    "Comparing DP Algorithm with Closed Formula Algorithm:"
   ]
  },
  {
   "cell_type": "code",
   "execution_count": 62,
   "metadata": {},
   "outputs": [
    {
     "name": "stdout",
     "output_type": "stream",
     "text": [
      "N = 1000\n",
      "Closed Formula Algorithm : 0.0\n",
      "DP Algorithm : 0.23518967628479004\n",
      "Value are equal : True\n"
     ]
    }
   ],
   "source": [
    "import time\n",
    "\n",
    "N = 1000\n",
    "print(f'N = {N}')\n",
    "start = time.time()\n",
    "x = CatalanClosed(N)\n",
    "end = time.time()\n",
    "print(f'Closed Formula Algorithm : {end - start}')\n",
    "\n",
    "start = time.time()\n",
    "y = CatalanNotRecursive(N)\n",
    "end = time.time()\n",
    "print(f'DP Algorithm : {end - start}')\n",
    "\n",
    "print(f'Value are equal : {x == y}')"
   ]
  },
  {
   "cell_type": "markdown",
   "metadata": {},
   "source": [
    "<div markdown=1 style=\"background-color: #f7b2eb; border-left: 5px solid #bf15a0; padding: 0.5em; color:#0A2A12; font-weight: bold;font-style: normal;\"> \n",
    "Filling the Table with Closed Formula Algorithm:"
   ]
  },
  {
   "cell_type": "code",
   "execution_count": 66,
   "metadata": {},
   "outputs": [],
   "source": [
    "def CatalanFillTableClosed(n):\n",
    "    return [CatalanClosed(i) for i in range(n+1)]\n",
    "        \n",
    "Cat = CatalanFillTableClosed(3000)"
   ]
  },
  {
   "cell_type": "markdown",
   "metadata": {},
   "source": [
    "<a id=\"CatalanGF\"></a>\n",
    "# Catalan and generating functions\n",
    "\n",
    "Let \n",
    "$$\n",
    "\\mathcal{C}(x)=\\sum_{n\\geq 0}c_n x^n=1+x+2x^2+5x^3+\\dots\n",
    "$$\n",
    "denote the generating function of the Catalan numbers."
   ]
  },
  {
   "cell_type": "markdown",
   "metadata": {},
   "source": [
    "<div markdown=1 class=\"DoIt\"> \n",
    "\n",
    "1. **(Theory)** Use the recursive formula [($\\star$)](#Computing) to prove that $\\mathcal{C}(x)$ is a solution of the following equation of degree two: <br>\n",
    "$$\n",
    "\\mathcal{C}(x)=1+x\\mathcal{C}(x)^2. \n",
    "$$\n",
    "<br>\n",
    "(In this equation, $\\mathcal{C}(x)$ is the unknown and $x$ is a parameter.)\n",
    "2. Use SymPy to deduce a formula for $\\mathcal{C}(x)$. What is the radius of convergence?"
   ]
  },
  {
   "cell_type": "markdown",
   "metadata": {},
   "source": [
    "<div markdown=1 class=\"Answers\"> \n",
    "\n",
    "First we can prove a straighforward lemma:\n",
    "\n",
    "**Lemma.** Given two generating functions $A(x) = \\sum_{n\\geq0} a_nx^n$ and $B(x) = \\sum_{n\\geq0} b_nx^n$, then the generating of the product is given by \n",
    "$$C(x) = A(x)B(x) = \\sum_{n\\geq0}\\Big(\\sum_{k=0}^n a_kb_{n-k} \\Big)x^n.$$\n",
    "**Proof.**\n",
    "We notice that if want to get the $n$-th coefficient of this generating function, we only need to consider \"partial sums\" of $A(x)$ and $B(x)$ until $x^n$, thus we only need to consider the $n$-th coefficient in $\\Big(\\sum_{k=0}^n a_kx^k\\Big)\\Big(\\sum_{k=0}^n b_kx^k\\Big)$, but now to get the $n$-th coefficient, we can take an element $x^k$ from the first part, and $x^{n-k}$. And thus we get what we wanted.\n",
    "\n",
    "Using our Lemma for $\\mathcal{C}(x)$ and $\\mathcal{C}(x)$, we notice that:\n",
    "\n",
    "$$\\mathcal{C}(x)^2 = \\sum_{n\\geq0}\\sum_{k=0}^n c_{k}c_{n-k} x^n = \\sum_{n\\geq0} c_{n+1}x_n,$$\n",
    "thus\n",
    "$$\\mathcal{C}(x) = \\sum_{n\\geq0}c_nx^n = 1 + \\sum_{n\\geq 0}c_{n+1}x^{n+1} = 1 + x\\mathcal{C}(x)^2.$$\n"
   ]
  },
  {
   "cell_type": "markdown",
   "metadata": {},
   "source": [
    "<div markdown=1 style=\"background-color: #f7b2eb; border-left: 5px solid #bf15a0; padding: 0.5em; color:#0A2A12; font-weight: bold;font-style: normal;\"> \n",
    "Solving for $\\mathcal{C}(x)$ by SymPy:"
   ]
  },
  {
   "cell_type": "code",
   "execution_count": 67,
   "metadata": {},
   "outputs": [
    {
     "data": {
      "text/plain": [
       "[(1 - sqrt(1 - 4*x))/(2*x), (sqrt(1 - 4*x) + 1)/(2*x)]"
      ]
     },
     "execution_count": 67,
     "metadata": {},
     "output_type": "execute_result"
    }
   ],
   "source": [
    "var('C x')\n",
    "solve(C - 1 - x*C**2, C)"
   ]
  },
  {
   "cell_type": "markdown",
   "metadata": {},
   "source": [
    "<div markdown=1 class=\"Answers\"> \n",
    "\n",
    "Thus we have that two candidates for $\\mathcal{C}(x)$ they are:\n",
    "$$\\frac{1-\\sqrt{1-4x}}{2x} ~~~ \\textrm{and} ~~~ \\frac{1+\\sqrt{1-4x}}{2x},$$\n",
    "but we notice that for the first one, the limit as $x\\to0$ is $\\infty$, because it is the case of $\\frac{2}{0}$. But we have that $C(0) = c_0 = 1$. Therefore we can exclude the second case, and thus have\n",
    "$$\\mathcal{C}(x) = \\frac{1-\\sqrt{1-4x}}{2x}$$\n",
    "To calculate the radius of convergence, we notice that for $x=0$ there is no problem, because\n",
    "$$\\lim_{x\\to0}\\frac{1-\\sqrt{1-4x}}{2x} = \\lim_{x\\to0} \\frac{1-(1-2x+o(x))}{2x} = \\lim_{x\\to0} 1 + o(x) = 1.$$\n",
    "Thus the only limitation is $1-4x \\geq 0$, and thus $\\rho_c= \\frac{1}{4}$\n",
    "\n",
    "Therefore we have $c_n \\sim 4^n$, as $n\\to\\infty$."
   ]
  },
  {
   "cell_type": "markdown",
   "metadata": {},
   "source": [
    "<div markdown=1 style=\"background-color: #f7b2eb; border-left: 5px solid #bf15a0; padding: 0.5em; color:#0A2A12; font-weight: bold;font-style: normal;\"> \n",
    "Plotting asymptotics of $c_n$:"
   ]
  },
  {
   "cell_type": "code",
   "execution_count": 76,
   "metadata": {},
   "outputs": [
    {
     "data": {
      "image/png": "[encoded data removed]",
      "text/plain": [
       "<Figure size 640x480 with 1 Axes>"
      ]
     },
     "metadata": {},
     "output_type": "display_data"
    }
   ],
   "source": [
    "N=2000\n",
    "RenormalizedValues=[Cat[n]**(1/(n+0.0)) for n in range(1,N)]\n",
    "plt.plot(RenormalizedValues)\n",
    "plt.plot([0,N],[4,4],label='4')\n",
    "\n",
    "plt.legend()\n",
    "plt.show()"
   ]
  },
  {
   "cell_type": "markdown",
   "metadata": {},
   "source": [
    "<div markdown=1 class=\"DoIt\"> You can deduce another program which computes the Catalan numbers using $\\mathcal{C}(x)$, and compare the execution times with the functions of the first part of the Project."
   ]
  },
  {
   "cell_type": "markdown",
   "metadata": {},
   "source": [
    "<div markdown=1 style=\"background-color: #f7b2eb; border-left: 5px solid #bf15a0; padding: 0.5em; color:#0A2A12; font-weight: bold;font-style: normal;\"> \n",
    "Sympy Algorithm for $c_n$:"
   ]
  },
  {
   "cell_type": "code",
   "execution_count": 10,
   "metadata": {},
   "outputs": [],
   "source": [
    "def CatalanSympy(n):\n",
    "    if n == 0:\n",
    "        return 1\n",
    "    var('x')\n",
    "    C = (1 - sqrt(1 - 4*x))/(2*x)\n",
    "    return C.series(x,0,n+1).coeff(x**n) "
   ]
  },
  {
   "cell_type": "markdown",
   "metadata": {},
   "source": [
    "<div markdown=1 style=\"background-color: #f7b2eb; border-left: 5px solid #bf15a0; padding: 0.5em; color:#0A2A12; font-weight: bold;font-style: normal;\"> \n",
    "Checking the implementation of algorithms:"
   ]
  },
  {
   "cell_type": "code",
   "execution_count": 11,
   "metadata": {},
   "outputs": [
    {
     "name": "stdout",
     "output_type": "stream",
     "text": [
      "c_0 = 1, 1, 1\n",
      "c_1 = 1, 1, 1\n",
      "c_2 = 2, 2, 2\n",
      "c_3 = 5, 5, 5\n",
      "c_4 = 14, 14, 14\n",
      "c_5 = 42, 42, 42\n",
      "c_6 = 132, 132, 132\n",
      "c_7 = 429, 429, 429\n",
      "c_8 = 1430, 1430, 1430\n",
      "c_9 = 4862, 4862, 4862\n"
     ]
    }
   ],
   "source": [
    "N = 10\n",
    "for n in range(N):\n",
    "    print(f\"c_{n} = {CatalanRecursive(n)}, {CatalanNotRecursive(n)}, {CatalanSympy(n)}\")"
   ]
  },
  {
   "cell_type": "markdown",
   "metadata": {},
   "source": [
    "<div markdown=1 style=\"background-color: #f7b2eb; border-left: 5px solid #bf15a0; padding: 0.5em; color:#0A2A12; font-weight: bold;font-style: normal;\"> \n",
    "Comparing the algorithms:"
   ]
  },
  {
   "cell_type": "code",
   "execution_count": 12,
   "metadata": {},
   "outputs": [
    {
     "name": "stdout",
     "output_type": "stream",
     "text": [
      "N = 100\n",
      "DP Algorithm : 0.0010378360748291016\n",
      "Sympy Algorithm : 0.2790055274963379\n"
     ]
    }
   ],
   "source": [
    "N = 100\n",
    "print(f'N = {N}')\n",
    "start = time.time()\n",
    "CatalanNotRecursive(N)\n",
    "end = time.time()\n",
    "print(f'DP Algorithm : {end - start}')\n",
    "\n",
    "start = time.time()\n",
    "CatalanSympy(N)\n",
    "end = time.time()\n",
    "print(f'Sympy Algorithm : {end - start}')\n"
   ]
  },
  {
   "cell_type": "markdown",
   "metadata": {},
   "source": [
    "### A variant: Motzkin numbers\n",
    "\n",
    "The <i>Motzkin numbers</i> $m_0,m_1,m_2,\\dots$ are similar to Catalan numbers and defined by $m_0=m_1=1$ and for every $n\\geq 2$\n",
    "$$\n",
    "m_n=m_{n-1}+\\sum_{k=0}^{n-2}m_km_{n-2-k}.\n",
    "$$"
   ]
  },
  {
   "cell_type": "markdown",
   "metadata": {},
   "source": [
    "<div markdown=1 class=\"DoIt\"> \n",
    "\n",
    "**(Theory + SymPy)** \n",
    "1. Find the generating function $\\mathcal{M}(x)=\\sum_{n\\geq 0}m_nx^n$. \n",
    "2. Compare the radius of convergence of $\\mathcal{C}$ and $\\mathcal{M}$. Which sequence is growing fastest between $(c_n)$ and $(m_n)$?"
   ]
  },
  {
   "cell_type": "markdown",
   "metadata": {},
   "source": [
    "<div markdown=1 class=\"Answers\"> \n",
    "\n",
    "We will use the **Lemma** of the product of generating function, we notice: $\\mathcal{M}(x)^2 = \\sum_{n\\geq0}\\big(\\sum_{k=0}^n m_km_{n-k}\\Big)x^n$, thus\n",
    "$$\\mathcal{M}(x) = \\sum_{n\\geq0} m_nx^n = 1 + x + \\sum_{n\\geq 0} m_{n+2}x^{n+2} = 1 + x + \\sum_{n\\geq0}\\Big(m_{n+1} + \\sum_{k=0}^{n}m_km_{n-k}\\Big)x^{n+2} = 1 + x + x(\\mathcal{M}(x) - 1) + x^2\\mathcal{M}(x)^2$$\n",
    "Thus\n",
    "$$\\mathcal{M}(x) = \\frac{1+x^2\\mathcal{M}(x)^2}{1-x}.$$\n",
    "To compute the $\\mathcal{M}(x)$ we can use quadratic formula, or use Sympy:"
   ]
  },
  {
   "cell_type": "markdown",
   "metadata": {},
   "source": [
    "<div markdown=1 style=\"background-color: #f7b2eb; border-left: 5px solid #bf15a0; padding: 0.5em; color:#0A2A12; font-weight: bold;font-style: normal;\"> \n",
    "Solving for $\\mathcal{M}(x)$ with SymPy:"
   ]
  },
  {
   "cell_type": "code",
   "execution_count": 13,
   "metadata": {},
   "outputs": [
    {
     "data": {
      "text/plain": [
       "[(-x - sqrt(-(x + 1)*(3*x - 1)) + 1)/(2*x**2),\n",
       " (-x + sqrt(-(x + 1)*(3*x - 1)) + 1)/(2*x**2)]"
      ]
     },
     "execution_count": 13,
     "metadata": {},
     "output_type": "execute_result"
    }
   ],
   "source": [
    "var('M x')\n",
    "solve(M*(1-x) - 1 - x**2*M**2, M)"
   ]
  },
  {
   "cell_type": "markdown",
   "metadata": {},
   "source": [
    "<div markdown=1 class=\"Answers\"> \n",
    "\n",
    "So we again have two candidates for the generating function $\\mathcal{M}(x)$:\n",
    "$$\\frac{1-x-\\sqrt{(1-3x)(x+1)}}{2x^2} ~~~~ \\textrm{and} ~~~~ \\frac{1-x+\\sqrt{(1-3x)(x+1)}}{2x^2}$$\n",
    "We again notice that the same argument as for Catalan numbers apply: if we consider the limit $x\\to0$ for the second term, we have the form of $\\frac{2}{0}$, which leads us to $\\infty$. Thus leaving us with:\n",
    "$$\\mathcal{M}(x) =\\frac{1-x-\\sqrt{(1-3x)(x+1)}}{2x^2}$$\n",
    "Let's calculate now the radius of convergence, we again notice that there is no problem at $x = 0$, because:\n",
    "$$\\lim_{x\\to0}\\frac{1-x-\\sqrt{(1-3x)(x+1)}}{2x^2} \\lim_{x\\to0} \\frac{1-x-\\sqrt{1 - (2x+3x^2)}}{2x^2} = \\lim_{x\\to0} \\frac{1-x-(1 - \\frac{1}{2}(2x+3x^2) - \\frac{1}{8}(2x+3x^2)^2 + o(x^3))}{2x^2}=$$\n",
    "$$=\\lim_{x\\to0} \\frac{\\frac{3x^2}{2} + \\frac{4x^2}{8} + o(x^2))}{2x^2} = \\lim_{x\\to0} 1 + o(1) = 1.$$\n",
    "Hence the restriction of $x$ will be from $1-3x \\geq 0$, and thus the radius of convergence is $\\rho_m = \\frac{1}{3}$."
   ]
  },
  {
   "cell_type": "markdown",
   "metadata": {},
   "source": [
    "<div markdown=1 style=\"background-color: #f7b2eb; border-left: 5px solid #bf15a0; padding: 0.5em; color:#0A2A12; font-weight: bold;font-style: normal;\"> \n",
    "Recursive Algorithm for $m_n$:"
   ]
  },
  {
   "cell_type": "code",
   "execution_count": 14,
   "metadata": {},
   "outputs": [],
   "source": [
    "def MotzkinRecursive(n):\n",
    "    if n <= 1:\n",
    "        return 1\n",
    "    S = 0\n",
    "    for k in range(n-1):\n",
    "        S += MotzkinRecursive(k)*MotzkinRecursive(n-2-k)\n",
    "    return MotzkinRecursive(n-1) + S"
   ]
  },
  {
   "cell_type": "markdown",
   "metadata": {},
   "source": [
    "<div markdown=1 style=\"background-color: #f7b2eb; border-left: 5px solid #bf15a0; padding: 0.5em; color:#0A2A12; font-weight: bold;font-style: normal;\"> \n",
    "DP Algorithm for $m_n$:"
   ]
  },
  {
   "cell_type": "code",
   "execution_count": 95,
   "metadata": {},
   "outputs": [],
   "source": [
    "def MotzkinNotRecursive(n):\n",
    "    m = [1,1]\n",
    "    for i in range(2,n+1):\n",
    "        m.append(0)\n",
    "        m[-1] += m[-2]\n",
    "        for k in range(i-1):\n",
    "            m[-1] += m[k]*m[i-2-k]\n",
    "    return m[-1]"
   ]
  },
  {
   "cell_type": "markdown",
   "metadata": {},
   "source": [
    "<div markdown=1 style=\"background-color: #f7b2eb; border-left: 5px solid #bf15a0; padding: 0.5em; color:#0A2A12; font-weight: bold;font-style: normal;\"> \n",
    "DP Algorithm for $m_n$ (returning the list):"
   ]
  },
  {
   "cell_type": "code",
   "execution_count": 96,
   "metadata": {},
   "outputs": [],
   "source": [
    "def MotzkinNotRecursiveList(n):\n",
    "    m = [1,1]\n",
    "    for i in range(2,n+1):\n",
    "        m.append(0)\n",
    "        m[-1] += m[-2]\n",
    "        for k in range(i-1):\n",
    "            m[-1] += m[k]*m[i-2-k]\n",
    "    return m"
   ]
  },
  {
   "cell_type": "markdown",
   "metadata": {},
   "source": [
    "<div markdown=1 style=\"background-color: #f7b2eb; border-left: 5px solid #bf15a0; padding: 0.5em; color:#0A2A12; font-weight: bold;font-style: normal;\"> \n",
    "SymPy Algorithm for $m_n$:"
   ]
  },
  {
   "cell_type": "code",
   "execution_count": 97,
   "metadata": {},
   "outputs": [],
   "source": [
    "def MotzkinSympy(n):\n",
    "    if n == 0:\n",
    "        return 1\n",
    "    var('x')\n",
    "    C = (-x - sqrt(-(x + 1)*(3*x - 1)) + 1)/(2*x**2)\n",
    "    return C.series(x,0,n+1).coeff(x**n) "
   ]
  },
  {
   "cell_type": "markdown",
   "metadata": {},
   "source": [
    "<div markdown=1 style=\"background-color: #f7b2eb; border-left: 5px solid #bf15a0; padding: 0.5em; color:#0A2A12; font-weight: bold;font-style: normal;\"> \n",
    "Checking the implementation of algorithms:"
   ]
  },
  {
   "cell_type": "code",
   "execution_count": 99,
   "metadata": {},
   "outputs": [
    {
     "name": "stdout",
     "output_type": "stream",
     "text": [
      "m_0 = 1, 1, 1\n",
      "m_1 = 1, 1, 1\n",
      "m_2 = 2, 2, 2\n",
      "m_3 = 4, 4, 4\n",
      "m_4 = 9, 9, 9\n",
      "m_5 = 21, 21, 21\n",
      "m_6 = 51, 51, 51\n",
      "m_7 = 127, 127, 127\n",
      "m_8 = 323, 323, 323\n",
      "m_9 = 835, 835, 835\n"
     ]
    }
   ],
   "source": [
    "N = 10\n",
    "for n in range(N):\n",
    "    print(f\"m_{n} = {MotzkinRecursive(n)}, {MotzkinNotRecursive(n)}, {MotzkinSympy(n)}\")"
   ]
  },
  {
   "cell_type": "markdown",
   "metadata": {},
   "source": [
    "<div markdown=1 class=\"Answers\"> \n",
    "\n",
    "From Asymptotics of GF in Toolbox 2, we have that $c_n$ grows like $(\\frac{1}{\\rho_c})^n = 4^n$ and $m_n$ grows like $(\\frac{1}{\\rho_m}) = 3^n$. So we would expect that $c_n$ grows a lot faster than $m_n$"
   ]
  },
  {
   "cell_type": "markdown",
   "metadata": {},
   "source": [
    "<div markdown=1 style=\"background-color: #f7b2eb; border-left: 5px solid #bf15a0; padding: 0.5em; color:#0A2A12; font-weight: bold;font-style: normal;\"> \n",
    "Plotting asymptotics of $m_n$:"
   ]
  },
  {
   "cell_type": "code",
   "execution_count": 112,
   "metadata": {},
   "outputs": [
    {
     "data": {
      "image/png": "[encoded data removed]",
      "text/plain": [
       "<Figure size 640x480 with 1 Axes>"
      ]
     },
     "metadata": {},
     "output_type": "display_data"
    }
   ],
   "source": [
    "N=650\n",
    "Motzkin = MotzkinNotRecursiveList(N)\n",
    "RenormalizedValues=[Motzkin[n]**(1/(n+0.0)) for n in range(1,N)]\n",
    "plt.plot(RenormalizedValues)\n",
    "plt.plot([0,N],[3,3],label='3')\n",
    "\n",
    "plt.legend()\n",
    "plt.show()"
   ]
  },
  {
   "cell_type": "markdown",
   "metadata": {},
   "source": [
    "<div markdown=1 style=\"background-color: #f7b2eb; border-left: 5px solid #bf15a0; padding: 0.5em; color:#0A2A12; font-weight: bold;font-style: normal;\"> \n",
    "Growth comparison between $c_n$ and $m_n$:"
   ]
  },
  {
   "cell_type": "code",
   "execution_count": 113,
   "metadata": {},
   "outputs": [
    {
     "name": "stdout",
     "output_type": "stream",
     "text": [
      "Comparing c_n and m_n\n",
      "n = 0: c_n = 1, m_n = 1\n",
      "n = 1: c_n = 1, m_n = 1\n",
      "n = 2: c_n = 2, m_n = 2\n",
      "n = 3: c_n = 5, m_n = 4\n",
      "n = 4: c_n = 14, m_n = 9\n",
      "n = 5: c_n = 42, m_n = 21\n",
      "n = 6: c_n = 132, m_n = 51\n",
      "n = 7: c_n = 429, m_n = 127\n",
      "n = 8: c_n = 1430, m_n = 323\n",
      "n = 9: c_n = 4862, m_n = 835\n",
      "n = 10: c_n = 16796, m_n = 2188\n",
      "n = 11: c_n = 58786, m_n = 5798\n",
      "n = 12: c_n = 208012, m_n = 15511\n",
      "n = 13: c_n = 742900, m_n = 41835\n",
      "n = 14: c_n = 2674440, m_n = 113634\n",
      "n = 15: c_n = 9694845, m_n = 310572\n",
      "n = 16: c_n = 35357670, m_n = 853467\n",
      "n = 17: c_n = 129644790, m_n = 2356779\n",
      "n = 18: c_n = 477638700, m_n = 6536382\n",
      "n = 19: c_n = 1767263190, m_n = 18199284\n",
      "n = 20: c_n = 6564120420, m_n = 50852019\n",
      "n = 21: c_n = 24466267020, m_n = 142547559\n",
      "n = 22: c_n = 91482563640, m_n = 400763223\n",
      "n = 23: c_n = 343059613650, m_n = 1129760415\n",
      "n = 24: c_n = 1289904147324, m_n = 3192727797\n",
      "n = 25: c_n = 4861946401452, m_n = 9043402501\n",
      "n = 26: c_n = 18367353072152, m_n = 25669818476\n",
      "n = 27: c_n = 69533550916004, m_n = 73007772802\n",
      "n = 28: c_n = 263747951750360, m_n = 208023278209\n",
      "n = 29: c_n = 1002242216651368, m_n = 593742784829\n"
     ]
    }
   ],
   "source": [
    "N = 30\n",
    "print(f\"Comparing c_n and m_n\")\n",
    "for n in range(N):\n",
    "    print(f\"n = {n}: c_n = {CatalanNotRecursive(n)}, m_n = {MotzkinNotRecursive(n)}\")"
   ]
  },
  {
   "cell_type": "code",
   "execution_count": 118,
   "metadata": {},
   "outputs": [
    {
     "data": {
      "image/png": "[encoded data removed]",
      "text/plain": [
       "<Figure size 640x480 with 1 Axes>"
      ]
     },
     "metadata": {},
     "output_type": "display_data"
    }
   ],
   "source": [
    "N = 100\n",
    "Mot = MotzkinNotRecursiveList(N)\n",
    "\n",
    "plt.plot([Cat[n] for n in range(N)], label='$c_n$')\n",
    "plt.plot([Mot[n] for n in range(N)], label='$m_n$')\n",
    "\n",
    "plt.legend()\n",
    "plt.show()"
   ]
  },
  {
   "cell_type": "markdown",
   "metadata": {},
   "source": [
    "<div markdown=1 class=\"Answers\"> We notice that $m_n$ looks constant compared to $c_n$."
   ]
  },
  {
   "cell_type": "markdown",
   "metadata": {},
   "source": [
    "# Dealing with large Catalan numbers"
   ]
  },
  {
   "cell_type": "markdown",
   "metadata": {},
   "source": [
    "<a id=\"Asymptotics\"></a>\n",
    "## The <i>length</i> of Catalan numbers"
   ]
  },
  {
   "cell_type": "markdown",
   "metadata": {},
   "source": [
    "It can be proved (this is beyond the level of Bachelor 2, a possible reference is p.384 in Ph.Flajolet, R.Sedgewick, <i>Analytic Combinatorics</i>) that for every $n$ we have\n",
    "$$\n",
    "\\frac{4^n}{\\sqrt{\\pi n^3}}\\big(1-\\frac{9}{8n}\\big) \\leq c_n \\leq \\frac{4^n}{\\sqrt{\\pi n^3}}, \\tag{App}\n",
    "$$\n",
    "which yields very good approximations when $n$ is large.\n",
    "We will use this approximation to estimate the <i>length</i> (<i>i.e.</i> the number of digits) of $c_n$ when $n$  is a power of ten."
   ]
  },
  {
   "cell_type": "markdown",
   "metadata": {},
   "source": [
    "<div markdown=1 class=\"DoIt\"> \n",
    "Consider the following table which records the <i>length</i> of $c_{10}$, $c_{100}$, $c_{1000}$,...\n",
    "\n",
    "\n",
    "<font size=\"+3\">\n",
    "<table>\n",
    "            <tr>\n",
    "                <td width=\"100\"> $c_{10^n}$</td>\n",
    "                <td > Number of digits of $c_{10^n}$</td>\n",
    "            </tr>\n",
    "            <tr>\n",
    "                <td width=\"100\"> $c_{10}$</td>\n",
    "                <td > 5</td>\n",
    "            </tr>\n",
    "            <tr>\n",
    "                <td width=\"100\"> $c_{100}$</td>\n",
    "                <td > 57</td>\n",
    "            </tr>\n",
    "            <tr>\n",
    "                <td width=\"100\"> $c_{10^3}$</td>\n",
    "                <td > 598</td>\n",
    "            </tr>\n",
    "            <tr>\n",
    "                <td width=\"100\"> $c_{10^4}$</td>\n",
    "                <td > 6015</td>\n",
    "            </tr>\n",
    "            <tr>\n",
    "                <td width=\"100\"> $c_{10^5}$</td>\n",
    "                <td > 60199</td>\n",
    "            </tr>\n",
    "            <tr>\n",
    "                <td width=\"100\"> $c_{10^6}$</td>\n",
    "                <td > 602051</td>\n",
    "            </tr>\n",
    "</table>\n",
    "</font>\n",
    "\n",
    "(For instance, $c_{10}=16796$ which has $5$ digits.)\n",
    "\n",
    "The goal is to complete the table. (An interesting challenge could be to break the record of <a href=\"https://oeis.org/A114466\">this sequence in the Online Encyclopedia of Integer Sequences</a>!)<br>\n",
    "For that purpose you have to\n",
    "1. **(Theory)** Find somewhere (or reprove) the formula which gives the number of digits of a given integer.\n",
    "2. Use this formula and python to complete the table. **Warning:** Do not try to explicitly compute $Cat_{10^n}$ since they grow too fast. Instead you need to figure out how to use equation (App) above."
   ]
  },
  {
   "cell_type": "markdown",
   "metadata": {},
   "source": [
    "<div markdown=1 class=\"Answers\"> \n",
    "\n",
    "1. The number of digits of $n$ will be just $k = \\lfloor\\log_{10} n\\rfloor + 1$, since $10^k \\leq n < 10^{k+1}$.\n",
    "\n",
    "2. Thus we need to can $\\log_{10}$ both sides of the given inequality:\n",
    "$$\\log_{10}\\Big(\\frac{4^n}{\\sqrt{\\pi n^3}}\\Big) + \\log_{10}\\Big(1-\\frac{9}{8n}\\Big) \\leq \\log_{10}(c_n) \\leq \\log_{10}\\Big(\\frac{4^n}{\\sqrt{\\pi n^3}}\\Big) $$\n",
    "$$ \\iff n\\log_{10}(4) - \\frac{1}{2}\\log_{10}(\\pi n^3)+ \\log_{10}\\Big(1-\\frac{9}{8n}\\Big) \\leq \\log_{10}(c_n) \\leq n\\log_{10}(4) - \\frac{1}{2}\\log_{10}(\\pi n^3) $$\n",
    "$$ \\iff n\\log_{10}(4) - \\frac{1}{2}\\log_{10}(\\pi) -\\frac{3}{2}\\log_{10}(n)+ \\log_{10}\\Big(1-\\frac{9}{8n}\\Big) \\leq \\log_{10}(c_n) \\leq n\\log_{10}(4) - \\frac{1}{2}\\log_{10}(\\pi) -\\frac{3}{2}\\log_{10}(n)$$\n",
    "We notice that for big $n$, the term $\\log_{10}\\Big(1-\\frac{9}{8n}\\Big)$ is a very small negative number, thus we can just take the floor of the right hand side and add $1$ to get the number of digits of $c_n$\n",
    "\n",
    "If we set $n = 10^k$ then:\n",
    "$$\\left\\lfloor 10^k\\log_{10}(4) - \\frac{1}{2}\\log_{10}(\\pi) -\\frac{3}{2}k \\right\\rfloor + 1 = \\lfloor\\log_{10}(c_{10^k})\\rfloor + 1$$"
   ]
  },
  {
   "cell_type": "markdown",
   "metadata": {},
   "source": [
    "<div markdown=1 style=\"background-color: #f7b2eb; border-left: 5px solid #bf15a0; padding: 0.5em; color:#0A2A12; font-weight: bold;font-style: normal;\"> \n",
    "Number of digits of $c_{10^n}$:"
   ]
  },
  {
   "cell_type": "code",
   "execution_count": 20,
   "metadata": {},
   "outputs": [],
   "source": [
    "def c10digits(n):\n",
    "    if n == 0:\n",
    "        return 1\n",
    "    return floor(10**n*log10(4) - log10(pi)/2 - 3*n/2) + 1"
   ]
  },
  {
   "cell_type": "markdown",
   "metadata": {},
   "source": [
    "<div markdown=1 style=\"background-color: #f7b2eb; border-left: 5px solid #bf15a0; padding: 0.5em; color:#0A2A12; font-weight: bold;font-style: normal;\"> \n",
    "Number of digits of $c_{10^n}$:"
   ]
  },
  {
   "cell_type": "code",
   "execution_count": 21,
   "metadata": {},
   "outputs": [
    {
     "name": "stdout",
     "output_type": "stream",
     "text": [
      "n = 0: 1, Expected: 1\n",
      "n = 1: 5, Expected: 5\n",
      "n = 2: 57, Expected: 57\n",
      "n = 3: 598, Expected: 598\n",
      "n = 4: 6015, Expected: 6015\n",
      "n = 5: 60199, Expected: 60199\n",
      "n = 6: 602051, Expected: 602051\n",
      "n = 7: 6020590, Expected: 6020590\n",
      "n = 8: 60205987, Expected: 60205987\n",
      "n = 9: 602059978, Expected: 602059978\n",
      "n = 10: 6020599899, Expected: 6020599899\n",
      "n = 11: 60205999117, Expected: 60205999117\n",
      "n = 12: 602059991310, Expected: 602059991310\n",
      "n = 13: 6020599913260, Expected: 6020599913260\n",
      "n = 14: 60205999132775, Expected: 60205999132775\n",
      "n = 15: 602059991327940, Expected: 602059991327940\n",
      "n = 16: 6020599913279601, Expected: 6020599913279600\n",
      "n = 17: 60205999132796217, Expected: 60205999132796214\n"
     ]
    }
   ],
   "source": [
    "N = 18\n",
    "\n",
    "A114466 = [1, 5, 57, 598, 6015, 60199, 602051, 6020590, 60205987, 602059978, 6020599899, 60205999117, 602059991310, 6020599913260, 60205999132775, 602059991327940, 6020599913279600, 60205999132796214]\n",
    "\n",
    "for n in range(N):\n",
    "    print(f\"n = {n}: {c10digits(n)}, Expected: {A114466[n]}\")"
   ]
  },
  {
   "cell_type": "markdown",
   "metadata": {},
   "source": [
    "<div markdown=1 class=\"Answers\"> \n",
    "We that we weren't able to calculate succesfully terms of $n = 16$ and $n = 17$, due to floating numbers and rounding errors in Python."
   ]
  },
  {
   "cell_type": "markdown",
   "metadata": {},
   "source": [
    "<div markdown=1 class=\"DoIt\">  \n",
    "\n",
    "**(Theory)** For larger and larger $n$'s the right column always begins with the same digits ($60205...$). Can you explain this pattern?\n",
    "\n",
    "(<i>Hint: Again, you should use equation </i>(App)<i>.</i>)"
   ]
  },
  {
   "cell_type": "markdown",
   "metadata": {},
   "source": [
    "<div markdown=1 class=\"Answers\"> \n",
    "\n",
    "We notice that the dominating factor will be $10^k$ compared to $k$ and other constants, so we notice that at some point we will see digits from $\\log_{10}(4)$, which we see it match the digits $60205\\ldots$, because $\\log_10(4) = 0.60205999\\ldots$"
   ]
  },
  {
   "cell_type": "code",
   "execution_count": 22,
   "metadata": {},
   "outputs": [
    {
     "name": "stdout",
     "output_type": "stream",
     "text": [
      "0.6020599913279624\n"
     ]
    }
   ],
   "source": [
    "print(log10(4))"
   ]
  },
  {
   "cell_type": "markdown",
   "metadata": {},
   "source": [
    "<a id=\"Combinatorial\"></a>\n",
    "# Three combinatorial interpretations of $c_n$"
   ]
  },
  {
   "cell_type": "markdown",
   "metadata": {},
   "source": [
    "<a id=\"Triangle\"></a>\n",
    "## Paths on a triangle"
   ]
  },
  {
   "cell_type": "markdown",
   "metadata": {},
   "source": [
    "Let $\\mathcal{T}\\subset \\mathbb{N}^2$ denote the infinite \"triangle\"\n",
    "$$\n",
    "\\mathcal{T}=\\big\\{(k,n),\\quad 0\\leq k\\leq n \\big\\}\n",
    "$$\n",
    "(see the figure below).\n",
    "\n",
    "For $(k,n) \\in \\mathcal{T}$ we denote by $P_{k,n}$ the number of paths such that:\n",
    "* the path starts at $(0,0)$ ends at $(n,k)$ and entirely lies inside $\\mathcal{T}$\n",
    "* the paths only takes unit steps in the North and East directions.\n",
    "\n",
    "For example this figure shows that $P_{2,3}=5$:\n",
    "\n",
    "<img src=\"figures/Escalier.jpg\" width='500px' >\n",
    "    "
   ]
  },
  {
   "cell_type": "markdown",
   "metadata": {},
   "source": [
    "<div markdown=1 class=\"DoIt\"> \n",
    "1. Write a function `Paths(K,N)` which returns a table (or a matrix) of all the values of $P_{k,n}$ for $k\\leq K, n\\leq N$.<br>\n",
    "<i>(Hint: Think recursive!)</i>\n",
    "2. Do you see on your table the connection with the Catalan numbers? **(Difficult)** Can you prove it?"
   ]
  },
  {
   "cell_type": "markdown",
   "metadata": {},
   "source": [
    "<div markdown=1 style=\"background-color: #f7b2eb; border-left: 5px solid #bf15a0; padding: 0.5em; color:#0A2A12; font-weight: bold;font-style: normal;\"> \n",
    "Recursive algorithm for $\\texttt{Paths}$:"
   ]
  },
  {
   "cell_type": "code",
   "execution_count": 23,
   "metadata": {},
   "outputs": [],
   "source": [
    "def Paths(K,N):\n",
    "    if K == 0 and N == 0: #if at beginning square\n",
    "        return 1\n",
    "    if K == N: #if on diagonal\n",
    "        return Paths(K-1,N)\n",
    "    if K == 0: #if on edge\n",
    "        return 1\n",
    "    return Paths(K-1,N) + Paths(K,N-1)"
   ]
  },
  {
   "cell_type": "code",
   "execution_count": 24,
   "metadata": {},
   "outputs": [
    {
     "name": "stdout",
     "output_type": "stream",
     "text": [
      "5\n"
     ]
    }
   ],
   "source": [
    "print(Paths(2,3))"
   ]
  },
  {
   "cell_type": "code",
   "execution_count": 25,
   "metadata": {},
   "outputs": [
    {
     "name": "stdout",
     "output_type": "stream",
     "text": [
      "n = 0 : Paths(n,n) = 1, c_n = 1\n",
      "n = 1 : Paths(n,n) = 1, c_n = 1\n",
      "n = 2 : Paths(n,n) = 2, c_n = 2\n",
      "n = 3 : Paths(n,n) = 5, c_n = 5\n",
      "n = 4 : Paths(n,n) = 14, c_n = 14\n",
      "n = 5 : Paths(n,n) = 42, c_n = 42\n",
      "n = 6 : Paths(n,n) = 132, c_n = 132\n",
      "n = 7 : Paths(n,n) = 429, c_n = 429\n",
      "n = 8 : Paths(n,n) = 1430, c_n = 1430\n",
      "n = 9 : Paths(n,n) = 4862, c_n = 4862\n",
      "n = 10 : Paths(n,n) = 16796, c_n = 16796\n",
      "n = 11 : Paths(n,n) = 58786, c_n = 58786\n",
      "n = 12 : Paths(n,n) = 208012, c_n = 208012\n",
      "n = 13 : Paths(n,n) = 742900, c_n = 742900\n",
      "n = 14 : Paths(n,n) = 2674440, c_n = 2674440\n"
     ]
    }
   ],
   "source": [
    "N = 15\n",
    "for n in range(N):\n",
    "    print(f'n = {n} : Paths(n,n) = {Paths(n,n)}, c_n = {Cat[n]}')"
   ]
  },
  {
   "cell_type": "markdown",
   "metadata": {},
   "source": [
    "<div markdown=1 class=\"Answers\"> \n",
    "\n",
    "We can prove that actually $\\texttt{Paths(n,n)} = c_n$. We see that we can divide the path into two paths. First part is from $(0,0)$ to the first time we get into the diagonal again say: $(k,k)$. So We see that we have divided the path into two parts: From $(0,0) \\to (k,k)$ and from $(k+1,k)\\to(n,n-1)$. We see then we have a path of the same type of length $k$ and a path of the same type of length $n-k-1$, and thus we get the formula:\n",
    "$$\n",
    "\\texttt{Paths(n,n)} = \\sum_{k=0}^{n-1} \\texttt{Paths(k,k)}\\cdot\\texttt{Paths(n-k-1,n-k-1)},\n",
    "$$\n",
    "with $\\texttt{Paths(0,0)}= \\texttt{Paths(1,1)} = 1$. So we conclude that $\\texttt{Paths(n,n)} = c_n$ (by induction)."
   ]
  },
  {
   "cell_type": "markdown",
   "metadata": {},
   "source": [
    "<a id=\"Parentheses\"></a>\n",
    "##  Well-formed parentheses expressions\n",
    "\n",
    "It can be shown that $c_n$ counts the number of expressions containing $n$ pairs of parentheses which are <i>correctly matched</i>. For the first values we obtain\n",
    "$$\n",
    "\\begin{array}{r c c c c c}\n",
    "n=1: & ()   &       &     &     &      \\\\\n",
    "n=2: & (()) & ()()  &     &     &      \\\\\n",
    "n=3: & ((())) & (())()  &  ()(())    &  ()()()   &  (()())    \\\\\n",
    "\\end{array}\n",
    "$$"
   ]
  },
  {
   "cell_type": "markdown",
   "metadata": {},
   "source": [
    "<div markdown=1 class=\"DoIt\"> \n",
    "1. Write a recursive function `Parentheses(n)` which returns the list of all well-formed parentheses expressions with $n$ pairs of parentheses.\n",
    "2. Check for different values that the list has length $c_n$."
   ]
  },
  {
   "cell_type": "markdown",
   "metadata": {},
   "source": [
    "<div markdown=1 style=\"background-color: #f7b2eb; border-left: 5px solid #bf15a0; padding: 0.5em; color:#0A2A12; font-weight: bold;font-style: normal;\"> \n",
    "Recursive algorithm for $\\texttt{Parentheses}$:"
   ]
  },
  {
   "cell_type": "code",
   "execution_count": 26,
   "metadata": {},
   "outputs": [],
   "source": [
    "def Parentheses(n,l=None,r=None):\n",
    "    if l is None: #initializing l = nb of left parentheses, r = nb of right parentheses\n",
    "        l = n\n",
    "        r = n\n",
    "    if r < l or r < 0 or l < 0: #if we wanted to pick more than n left or right parentheses/ or if we put a right parentheses before a left one.\n",
    "        return 0\n",
    "    if l == 0 and r == 0: #if we don't have any more parentheses, we found a well-formed parentheses expression.\n",
    "        return 1\n",
    "    return Parentheses(n,l-1,r) + Parentheses(n,l,r-1) #we either put a left or right parentheses"
   ]
  },
  {
   "cell_type": "code",
   "execution_count": 27,
   "metadata": {},
   "outputs": [
    {
     "name": "stdout",
     "output_type": "stream",
     "text": [
      "n = 0 : Parentheses(n) = 1, c_n = 1\n",
      "n = 1 : Parentheses(n) = 1, c_n = 1\n",
      "n = 2 : Parentheses(n) = 2, c_n = 2\n",
      "n = 3 : Parentheses(n) = 5, c_n = 5\n",
      "n = 4 : Parentheses(n) = 14, c_n = 14\n",
      "n = 5 : Parentheses(n) = 42, c_n = 42\n",
      "n = 6 : Parentheses(n) = 132, c_n = 132\n",
      "n = 7 : Parentheses(n) = 429, c_n = 429\n",
      "n = 8 : Parentheses(n) = 1430, c_n = 1430\n",
      "n = 9 : Parentheses(n) = 4862, c_n = 4862\n",
      "n = 10 : Parentheses(n) = 16796, c_n = 16796\n",
      "n = 11 : Parentheses(n) = 58786, c_n = 58786\n",
      "n = 12 : Parentheses(n) = 208012, c_n = 208012\n",
      "n = 13 : Parentheses(n) = 742900, c_n = 742900\n",
      "n = 14 : Parentheses(n) = 2674440, c_n = 2674440\n"
     ]
    }
   ],
   "source": [
    "N = 15\n",
    "for n in range(N):\n",
    "    print(f'n = {n} : Parentheses(n) = {Parentheses(n)}, c_n = {Cat[n]}')"
   ]
  },
  {
   "cell_type": "markdown",
   "metadata": {},
   "source": [
    "<div markdown=1 class=\"DoIt\"> **(Theory)** Prove that the number of well-formed parentheses expressions is counted by Catalan numbers."
   ]
  },
  {
   "cell_type": "markdown",
   "metadata": {},
   "source": [
    "<div markdown=1 class=\"Answers\"> \n",
    "\n",
    "We can prove that number of correct parentheses count the Catalan number, by using the recursive formula. We notice that we can divide a parenthesation, into two parts, by choosing the first pair of parenthesation as the \"boarder\", i.e. $(A)B$, where $A$ and $B$ are some well-formed parentheses. Thus we see that the sum of number of pairs of parentheses of $A$ and $B$ is exactly $n-1$. And we also notice that the partition can be anywhere from index $0$ to $n-1$, thus we have\n",
    "$$P_n = \\sum_{k=0}^{n-1}P_{k}P_{n-1-k},$$\n",
    "where $P_0=P_1=1$. We easily notice that this sequence is the same as Catalan numbers, one can easily prove it by induction.\n",
    "\n",
    "Other way to prove this fact, is to find a bijection between the paths defined above.\n",
    "\n",
    "We notice that each left parentheses $'('$ can be represented as a step in the North, and each right parentheses $')'$ can be represented as a step in the East. Thus we have a bijection between these two objects. We notice that each path won't cross the diagonal, because we have at most $')'$ number of $'('$, to have a well-formed parethesations. Likewise for each path not crossing the diagonal, we guarantee that there won't be an extra $')'$ that doesn't have a opening parentheses."
   ]
  },
  {
   "cell_type": "markdown",
   "metadata": {},
   "source": [
    "<a id=\"Trees\"></a>\n",
    "## Binary trees\n",
    "\n",
    "A <i>binary tree</i> is a tree in which every internal node (in grey in above pictures) has exactly two children. Leaves (in green) have no children. The **size** of a binary tree is its number of internal nodes. There is one binary tree of size $1$, and two binary trees of size $2$, five binary trees of size $3$:\n",
    "<br>\n",
    "<img src=\"./figures/BinaryTree.jpg\" style=\"width: 700px;\"/>\n",
    "\n",
    "Let $t_n$ be the number of binary trees of size $n$, by convention we put $t_0=1$ (this corresponds to a leaf without any internal node)."
   ]
  },
  {
   "cell_type": "markdown",
   "metadata": {},
   "source": [
    "<div markdown=1 class=\"DoIt\"> \n",
    "**(Theory)** Prove that $t_n$ is the $n$-th Catalan number."
   ]
  },
  {
   "cell_type": "markdown",
   "metadata": {},
   "source": [
    "<div markdown=1 class=\"Answers\"> \n",
    "\n",
    "This again can be proved multiple ways:\n",
    "\n",
    "Direct: Looking from the root, we see that the tree can be decomposed into two binary trees, which are rooted on the left child and the right child. We notice then that if the original tree has size $n$, then the sum of sizes of the trees is $n-1$. Therefore we notice again the recurrence relation:\n",
    "\n",
    "$$B_n = \\sum_{k=0}^{n-1} B_k B_{n-1-k}.$$\n",
    "\n",
    "With $B_0 = B_1 = 1$, which again prove that $B_n$ count the Catalan numbers.\n",
    "\n",
    "This also can be proved by bijection between well-formed parethesations. We notice that if consider a DFS search on the tree starting from the root, and we always visit the left child first. Then we are able to order the edges in the tree.\n",
    "\n",
    "Then we can define a left edge as a open parentheses $'('$, and a right edge as closed parentheses $')'$. Therefore we can see in the example of size $3$ we will map the trees with:\n",
    "$$(())(), ~~ ()(()), ~~ ()()(), ~~ ((())), ~~ (()()).$$"
   ]
  },
  {
   "cell_type": "markdown",
   "metadata": {},
   "source": [
    "<a id=\"Bostan\"></a>\n",
    "## Catalan and modulos: the Bostan Conjecture"
   ]
  },
  {
   "cell_type": "markdown",
   "metadata": {},
   "source": [
    "<div markdown=1 class=\"DoIt\"> \n",
    "\n",
    "Alin Bostan (computer scientist at INRIA and Ecole Polytechnique) conjectured a few years ago <a href=\"http://www.mat.univie.ac.at/%7Eslc/wpapers/s80vortrag/bostan.pdf\">(see this link p.26)</a> that in basis 10 the last digit of $c_n$ is never $3$. So far this is still an open problem.<br>\n",
    "\n",
    "1. Check the conjecture for $1\\leq n\\leq 100$. The output should look like\n",
    "```python\n",
    "Catalan 1 mod 10 is 1: the Conjecture is True\n",
    "Catalan 2 mod 10 is 2: the Conjecture is True\n",
    "Catalan 3 mod 10 is 5: the Conjecture is True\n",
    "Catalan 4 mod 10 is 4: the Conjecture is True\n",
    "...\n",
    "```\n",
    "2. How to check the conjecture for very large values? Try for example with $7000\\leq n\\leq 7100$.<br>\n",
    "<i>(Hint: Be careful how you compute $c_n \\mod 10$, since $c_n$ grows very fast!)</i>\n",
    "3. More generally, what is the frequency of $0,1,\\dots,9$ among last digits of the $n$ first Catalan numbers?\n",
    "4. What about the conjecture in basis other than basis 10?"
   ]
  },
  {
   "cell_type": "code",
   "execution_count": 28,
   "metadata": {
    "scrolled": true
   },
   "outputs": [
    {
     "name": "stdout",
     "output_type": "stream",
     "text": [
      "Catalan 1 mod 10 is 1: the Conjecture is True\n",
      "Catalan 2 mod 10 is 2: the Conjecture is True\n",
      "Catalan 3 mod 10 is 5: the Conjecture is True\n",
      "Catalan 4 mod 10 is 4: the Conjecture is True\n",
      "Catalan 5 mod 10 is 2: the Conjecture is True\n",
      "Catalan 6 mod 10 is 2: the Conjecture is True\n",
      "Catalan 7 mod 10 is 9: the Conjecture is True\n",
      "Catalan 8 mod 10 is 0: the Conjecture is True\n",
      "Catalan 9 mod 10 is 2: the Conjecture is True\n",
      "Catalan 10 mod 10 is 6: the Conjecture is True\n",
      "Catalan 11 mod 10 is 6: the Conjecture is True\n",
      "Catalan 12 mod 10 is 2: the Conjecture is True\n",
      "Catalan 13 mod 10 is 0: the Conjecture is True\n",
      "Catalan 14 mod 10 is 0: the Conjecture is True\n",
      "Catalan 15 mod 10 is 5: the Conjecture is True\n",
      "Catalan 16 mod 10 is 0: the Conjecture is True\n",
      "Catalan 17 mod 10 is 0: the Conjecture is True\n",
      "Catalan 18 mod 10 is 0: the Conjecture is True\n",
      "Catalan 19 mod 10 is 0: the Conjecture is True\n",
      "Catalan 20 mod 10 is 0: the Conjecture is True\n",
      "Catalan 21 mod 10 is 0: the Conjecture is True\n",
      "Catalan 22 mod 10 is 0: the Conjecture is True\n",
      "Catalan 23 mod 10 is 0: the Conjecture is True\n",
      "Catalan 24 mod 10 is 4: the Conjecture is True\n",
      "Catalan 25 mod 10 is 2: the Conjecture is True\n",
      "Catalan 26 mod 10 is 2: the Conjecture is True\n",
      "Catalan 27 mod 10 is 4: the Conjecture is True\n",
      "Catalan 28 mod 10 is 0: the Conjecture is True\n",
      "Catalan 29 mod 10 is 8: the Conjecture is True\n",
      "Catalan 30 mod 10 is 4: the Conjecture is True\n",
      "Catalan 31 mod 10 is 9: the Conjecture is True\n",
      "Catalan 32 mod 10 is 8: the Conjecture is True\n",
      "Catalan 33 mod 10 is 0: the Conjecture is True\n",
      "Catalan 34 mod 10 is 4: the Conjecture is True\n",
      "Catalan 35 mod 10 is 2: the Conjecture is True\n",
      "Catalan 36 mod 10 is 2: the Conjecture is True\n",
      "Catalan 37 mod 10 is 4: the Conjecture is True\n",
      "Catalan 38 mod 10 is 0: the Conjecture is True\n",
      "Catalan 39 mod 10 is 0: the Conjecture is True\n",
      "Catalan 40 mod 10 is 0: the Conjecture is True\n",
      "Catalan 41 mod 10 is 0: the Conjecture is True\n",
      "Catalan 42 mod 10 is 0: the Conjecture is True\n",
      "Catalan 43 mod 10 is 0: the Conjecture is True\n",
      "Catalan 44 mod 10 is 0: the Conjecture is True\n",
      "Catalan 45 mod 10 is 0: the Conjecture is True\n",
      "Catalan 46 mod 10 is 0: the Conjecture is True\n",
      "Catalan 47 mod 10 is 0: the Conjecture is True\n",
      "Catalan 48 mod 10 is 0: the Conjecture is True\n",
      "Catalan 49 mod 10 is 2: the Conjecture is True\n",
      "Catalan 50 mod 10 is 6: the Conjecture is True\n",
      "Catalan 51 mod 10 is 6: the Conjecture is True\n",
      "Catalan 52 mod 10 is 2: the Conjecture is True\n",
      "Catalan 53 mod 10 is 0: the Conjecture is True\n",
      "Catalan 54 mod 10 is 4: the Conjecture is True\n",
      "Catalan 55 mod 10 is 2: the Conjecture is True\n",
      "Catalan 56 mod 10 is 2: the Conjecture is True\n",
      "Catalan 57 mod 10 is 4: the Conjecture is True\n",
      "Catalan 58 mod 10 is 0: the Conjecture is True\n",
      "Catalan 59 mod 10 is 2: the Conjecture is True\n",
      "Catalan 60 mod 10 is 6: the Conjecture is True\n",
      "Catalan 61 mod 10 is 6: the Conjecture is True\n",
      "Catalan 62 mod 10 is 2: the Conjecture is True\n",
      "Catalan 63 mod 10 is 5: the Conjecture is True\n",
      "Catalan 64 mod 10 is 0: the Conjecture is True\n",
      "Catalan 65 mod 10 is 0: the Conjecture is True\n",
      "Catalan 66 mod 10 is 0: the Conjecture is True\n",
      "Catalan 67 mod 10 is 0: the Conjecture is True\n",
      "Catalan 68 mod 10 is 0: the Conjecture is True\n",
      "Catalan 69 mod 10 is 0: the Conjecture is True\n",
      "Catalan 70 mod 10 is 0: the Conjecture is True\n",
      "Catalan 71 mod 10 is 0: the Conjecture is True\n",
      "Catalan 72 mod 10 is 0: the Conjecture is True\n",
      "Catalan 73 mod 10 is 0: the Conjecture is True\n",
      "Catalan 74 mod 10 is 0: the Conjecture is True\n",
      "Catalan 75 mod 10 is 0: the Conjecture is True\n",
      "Catalan 76 mod 10 is 0: the Conjecture is True\n",
      "Catalan 77 mod 10 is 0: the Conjecture is True\n",
      "Catalan 78 mod 10 is 0: the Conjecture is True\n",
      "Catalan 79 mod 10 is 0: the Conjecture is True\n",
      "Catalan 80 mod 10 is 0: the Conjecture is True\n",
      "Catalan 81 mod 10 is 0: the Conjecture is True\n",
      "Catalan 82 mod 10 is 0: the Conjecture is True\n",
      "Catalan 83 mod 10 is 0: the Conjecture is True\n",
      "Catalan 84 mod 10 is 0: the Conjecture is True\n",
      "Catalan 85 mod 10 is 0: the Conjecture is True\n",
      "Catalan 86 mod 10 is 0: the Conjecture is True\n",
      "Catalan 87 mod 10 is 0: the Conjecture is True\n",
      "Catalan 88 mod 10 is 0: the Conjecture is True\n",
      "Catalan 89 mod 10 is 0: the Conjecture is True\n",
      "Catalan 90 mod 10 is 0: the Conjecture is True\n",
      "Catalan 91 mod 10 is 0: the Conjecture is True\n",
      "Catalan 92 mod 10 is 0: the Conjecture is True\n",
      "Catalan 93 mod 10 is 0: the Conjecture is True\n",
      "Catalan 94 mod 10 is 0: the Conjecture is True\n",
      "Catalan 95 mod 10 is 0: the Conjecture is True\n",
      "Catalan 96 mod 10 is 0: the Conjecture is True\n",
      "Catalan 97 mod 10 is 0: the Conjecture is True\n",
      "Catalan 98 mod 10 is 0: the Conjecture is True\n",
      "Catalan 99 mod 10 is 0: the Conjecture is True\n",
      "Catalan 100 mod 10 is 0: the Conjecture is True\n"
     ]
    }
   ],
   "source": [
    "for n in range(1,101):\n",
    "    print(f\"Catalan {n} mod {10} is {CatalanNotRecursive(n)%10}: the Conjecture is {CatalanNotRecursive(n)%10 != 3}\")"
   ]
  },
  {
   "cell_type": "markdown",
   "metadata": {},
   "source": [
    "<div markdown=1 style=\"background-color: #f7b2eb; border-left: 5px solid #bf15a0; padding: 0.5em; color:#0A2A12; font-weight: bold;font-style: normal;\"> \n",
    "DP Algorithm modulo $10$:"
   ]
  },
  {
   "cell_type": "code",
   "execution_count": 29,
   "metadata": {},
   "outputs": [],
   "source": [
    "def CatalanNotRecursiveMod10ConjectureCheck(A,B):\n",
    "    c = [1,1]\n",
    "    for k in range(2,B+1):\n",
    "        c.append(0)\n",
    "        for i in range(k):\n",
    "            c[-1] += (c[i]*c[k-i-1])%10\n",
    "        c[-1] %= 10\n",
    "    for n in range(A,B+1):\n",
    "        print(f\"Catalan {n} mod {10} is {c[n]%10}: the Conjecture is {c[n]%10 != 3}\")"
   ]
  },
  {
   "cell_type": "code",
   "execution_count": 30,
   "metadata": {
    "scrolled": true
   },
   "outputs": [
    {
     "name": "stdout",
     "output_type": "stream",
     "text": [
      "Catalan 7000 mod 10 is 4: the Conjecture is True\n",
      "Catalan 7001 mod 10 is 4: the Conjecture is True\n",
      "Catalan 7002 mod 10 is 8: the Conjecture is True\n",
      "Catalan 7003 mod 10 is 0: the Conjecture is True\n",
      "Catalan 7004 mod 10 is 6: the Conjecture is True\n",
      "Catalan 7005 mod 10 is 8: the Conjecture is True\n",
      "Catalan 7006 mod 10 is 8: the Conjecture is True\n",
      "Catalan 7007 mod 10 is 6: the Conjecture is True\n",
      "Catalan 7008 mod 10 is 0: the Conjecture is True\n",
      "Catalan 7009 mod 10 is 8: the Conjecture is True\n",
      "Catalan 7010 mod 10 is 4: the Conjecture is True\n",
      "Catalan 7011 mod 10 is 4: the Conjecture is True\n",
      "Catalan 7012 mod 10 is 8: the Conjecture is True\n",
      "Catalan 7013 mod 10 is 0: the Conjecture is True\n",
      "Catalan 7014 mod 10 is 0: the Conjecture is True\n",
      "Catalan 7015 mod 10 is 0: the Conjecture is True\n",
      "Catalan 7016 mod 10 is 0: the Conjecture is True\n",
      "Catalan 7017 mod 10 is 0: the Conjecture is True\n",
      "Catalan 7018 mod 10 is 0: the Conjecture is True\n",
      "Catalan 7019 mod 10 is 0: the Conjecture is True\n",
      "Catalan 7020 mod 10 is 0: the Conjecture is True\n",
      "Catalan 7021 mod 10 is 0: the Conjecture is True\n",
      "Catalan 7022 mod 10 is 0: the Conjecture is True\n",
      "Catalan 7023 mod 10 is 0: the Conjecture is True\n",
      "Catalan 7024 mod 10 is 6: the Conjecture is True\n",
      "Catalan 7025 mod 10 is 8: the Conjecture is True\n",
      "Catalan 7026 mod 10 is 8: the Conjecture is True\n",
      "Catalan 7027 mod 10 is 6: the Conjecture is True\n",
      "Catalan 7028 mod 10 is 0: the Conjecture is True\n",
      "Catalan 7029 mod 10 is 2: the Conjecture is True\n",
      "Catalan 7030 mod 10 is 6: the Conjecture is True\n",
      "Catalan 7031 mod 10 is 6: the Conjecture is True\n",
      "Catalan 7032 mod 10 is 2: the Conjecture is True\n",
      "Catalan 7033 mod 10 is 0: the Conjecture is True\n",
      "Catalan 7034 mod 10 is 6: the Conjecture is True\n",
      "Catalan 7035 mod 10 is 8: the Conjecture is True\n",
      "Catalan 7036 mod 10 is 8: the Conjecture is True\n",
      "Catalan 7037 mod 10 is 6: the Conjecture is True\n",
      "Catalan 7038 mod 10 is 0: the Conjecture is True\n",
      "Catalan 7039 mod 10 is 0: the Conjecture is True\n",
      "Catalan 7040 mod 10 is 0: the Conjecture is True\n",
      "Catalan 7041 mod 10 is 0: the Conjecture is True\n",
      "Catalan 7042 mod 10 is 0: the Conjecture is True\n",
      "Catalan 7043 mod 10 is 0: the Conjecture is True\n",
      "Catalan 7044 mod 10 is 0: the Conjecture is True\n",
      "Catalan 7045 mod 10 is 0: the Conjecture is True\n",
      "Catalan 7046 mod 10 is 0: the Conjecture is True\n",
      "Catalan 7047 mod 10 is 0: the Conjecture is True\n",
      "Catalan 7048 mod 10 is 0: the Conjecture is True\n",
      "Catalan 7049 mod 10 is 8: the Conjecture is True\n",
      "Catalan 7050 mod 10 is 4: the Conjecture is True\n",
      "Catalan 7051 mod 10 is 4: the Conjecture is True\n",
      "Catalan 7052 mod 10 is 8: the Conjecture is True\n",
      "Catalan 7053 mod 10 is 0: the Conjecture is True\n",
      "Catalan 7054 mod 10 is 6: the Conjecture is True\n",
      "Catalan 7055 mod 10 is 8: the Conjecture is True\n",
      "Catalan 7056 mod 10 is 8: the Conjecture is True\n",
      "Catalan 7057 mod 10 is 6: the Conjecture is True\n",
      "Catalan 7058 mod 10 is 0: the Conjecture is True\n",
      "Catalan 7059 mod 10 is 8: the Conjecture is True\n",
      "Catalan 7060 mod 10 is 4: the Conjecture is True\n",
      "Catalan 7061 mod 10 is 4: the Conjecture is True\n",
      "Catalan 7062 mod 10 is 8: the Conjecture is True\n",
      "Catalan 7063 mod 10 is 0: the Conjecture is True\n",
      "Catalan 7064 mod 10 is 0: the Conjecture is True\n",
      "Catalan 7065 mod 10 is 0: the Conjecture is True\n",
      "Catalan 7066 mod 10 is 0: the Conjecture is True\n",
      "Catalan 7067 mod 10 is 0: the Conjecture is True\n",
      "Catalan 7068 mod 10 is 0: the Conjecture is True\n",
      "Catalan 7069 mod 10 is 0: the Conjecture is True\n",
      "Catalan 7070 mod 10 is 0: the Conjecture is True\n",
      "Catalan 7071 mod 10 is 0: the Conjecture is True\n",
      "Catalan 7072 mod 10 is 0: the Conjecture is True\n",
      "Catalan 7073 mod 10 is 0: the Conjecture is True\n",
      "Catalan 7074 mod 10 is 0: the Conjecture is True\n",
      "Catalan 7075 mod 10 is 0: the Conjecture is True\n",
      "Catalan 7076 mod 10 is 0: the Conjecture is True\n",
      "Catalan 7077 mod 10 is 0: the Conjecture is True\n",
      "Catalan 7078 mod 10 is 0: the Conjecture is True\n",
      "Catalan 7079 mod 10 is 0: the Conjecture is True\n",
      "Catalan 7080 mod 10 is 0: the Conjecture is True\n",
      "Catalan 7081 mod 10 is 0: the Conjecture is True\n",
      "Catalan 7082 mod 10 is 0: the Conjecture is True\n",
      "Catalan 7083 mod 10 is 0: the Conjecture is True\n",
      "Catalan 7084 mod 10 is 0: the Conjecture is True\n",
      "Catalan 7085 mod 10 is 0: the Conjecture is True\n",
      "Catalan 7086 mod 10 is 0: the Conjecture is True\n",
      "Catalan 7087 mod 10 is 0: the Conjecture is True\n",
      "Catalan 7088 mod 10 is 0: the Conjecture is True\n",
      "Catalan 7089 mod 10 is 0: the Conjecture is True\n",
      "Catalan 7090 mod 10 is 0: the Conjecture is True\n",
      "Catalan 7091 mod 10 is 0: the Conjecture is True\n",
      "Catalan 7092 mod 10 is 0: the Conjecture is True\n",
      "Catalan 7093 mod 10 is 0: the Conjecture is True\n",
      "Catalan 7094 mod 10 is 0: the Conjecture is True\n",
      "Catalan 7095 mod 10 is 0: the Conjecture is True\n",
      "Catalan 7096 mod 10 is 0: the Conjecture is True\n",
      "Catalan 7097 mod 10 is 0: the Conjecture is True\n",
      "Catalan 7098 mod 10 is 0: the Conjecture is True\n",
      "Catalan 7099 mod 10 is 0: the Conjecture is True\n",
      "Catalan 7100 mod 10 is 0: the Conjecture is True\n"
     ]
    }
   ],
   "source": [
    "CatalanNotRecursiveMod10ConjectureCheck(7000,7100)"
   ]
  },
  {
   "cell_type": "markdown",
   "metadata": {},
   "source": [
    "<div markdown=1 style=\"background-color: #f7b2eb; border-left: 5px solid #bf15a0; padding: 0.5em; color:#0A2A12; font-weight: bold;font-style: normal;\"> \n",
    "Distribution of digits:"
   ]
  },
  {
   "cell_type": "code",
   "execution_count": 31,
   "metadata": {},
   "outputs": [
    {
     "name": "stdout",
     "output_type": "stream",
     "text": [
      "{0: 2672, 1: 2, 2: 96, 3: 0, 4: 109, 5: 6, 6: 48, 7: 1, 8: 64, 9: 3}\n"
     ]
    },
    {
     "data": {
      "image/png": "[encoded data removed]",
      "text/plain": [
       "<Figure size 640x480 with 1 Axes>"
      ]
     },
     "metadata": {},
     "output_type": "display_data"
    }
   ],
   "source": [
    "def CatalanNotRecursiveMod10returnList(A,B):\n",
    "    c = [1,1]\n",
    "    for k in range(2,B+1):\n",
    "        c.append(0)\n",
    "        for i in range(k):\n",
    "            c[-1] += (c[i]*c[k-i-1])%10\n",
    "        c[-1] %= 10\n",
    "    return c\n",
    "\n",
    "N = 3000\n",
    "Y=sorted(CatalanNotRecursiveMod10returnList(1,N))\n",
    "plt.hist(Y, bins= [k-0.5 for k in range(10)], density=True, ec='k')\n",
    "print({k: Y.count(k) for k in range(10)})\n",
    "plt.show()"
   ]
  },
  {
   "cell_type": "markdown",
   "metadata": {},
   "source": [
    "<div markdown=1 class=\"Answers\"> \n",
    "\n",
    "We notice that the (dominating) majority of last digits of the Catalan numbers is $0$, we notice some occurence of $2,4,6$ and $8$, while odd numbers are barely occuring."
   ]
  },
  {
   "cell_type": "markdown",
   "metadata": {},
   "source": [
    "<div markdown=1 style=\"background-color: #f7b2eb; border-left: 5px solid #bf15a0; padding: 0.5em; color:#0A2A12; font-weight: bold;font-style: normal;\"> \n",
    "The Conjecture in different bases:"
   ]
  },
  {
   "cell_type": "code",
   "execution_count": 32,
   "metadata": {
    "scrolled": true
   },
   "outputs": [
    {
     "name": "stdout",
     "output_type": "stream",
     "text": [
      "{0: 2989, 1: 12}\n"
     ]
    },
    {
     "data": {
      "image/png": "[encoded data removed]",
      "text/plain": [
       "<Figure size 640x480 with 1 Axes>"
      ]
     },
     "metadata": {},
     "output_type": "display_data"
    },
    {
     "name": "stdout",
     "output_type": "stream",
     "text": [
      "{0: 2685, 1: 157, 2: 159}\n"
     ]
    },
    {
     "data": {
      "image/png": "[encoded data removed]",
      "text/plain": [
       "<Figure size 640x480 with 1 Axes>"
      ]
     },
     "metadata": {},
     "output_type": "display_data"
    },
    {
     "name": "stdout",
     "output_type": "stream",
     "text": [
      "{0: 2924, 1: 12, 2: 65, 3: 0}\n"
     ]
    },
    {
     "data": {
      "image/png": "[encoded data removed]",
      "text/plain": [
       "<Figure size 640x480 with 1 Axes>"
      ]
     },
     "metadata": {},
     "output_type": "display_data"
    },
    {
     "name": "stdout",
     "output_type": "stream",
     "text": [
      "{0: 2678, 1: 50, 2: 97, 3: 64, 4: 112}\n"
     ]
    },
    {
     "data": {
      "image/png": "[encoded data removed]",
      "text/plain": [
       "<Figure size 640x480 with 1 Axes>"
      ]
     },
     "metadata": {},
     "output_type": "display_data"
    },
    {
     "name": "stdout",
     "output_type": "stream",
     "text": [
      "{0: 2678, 1: 3, 2: 157, 3: 7, 4: 154, 5: 2}\n"
     ]
    },
    {
     "data": {
      "image/png": "[encoded data removed]",
      "text/plain": [
       "<Figure size 640x480 with 1 Axes>"
      ]
     },
     "metadata": {},
     "output_type": "display_data"
    },
    {
     "name": "stdout",
     "output_type": "stream",
     "text": [
      "{0: 2522, 1: 74, 2: 91, 3: 81, 4: 75, 5: 77, 6: 81}\n"
     ]
    },
    {
     "data": {
      "image/png": "[encoded data removed]",
      "text/plain": [
       "<Figure size 640x480 with 1 Axes>"
      ]
     },
     "metadata": {},
     "output_type": "display_data"
    },
    {
     "name": "stdout",
     "output_type": "stream",
     "text": [
      "{0: 2714, 1: 2, 2: 10, 3: 0, 4: 210, 5: 10, 6: 55, 7: 0}\n"
     ]
    },
    {
     "data": {
      "image/png": "[encoded data removed]",
      "text/plain": [
       "<Figure size 640x480 with 1 Axes>"
      ]
     },
     "metadata": {},
     "output_type": "display_data"
    },
    {
     "name": "stdout",
     "output_type": "stream",
     "text": [
      "{0: 2181, 1: 50, 2: 54, 3: 252, 4: 56, 5: 50, 6: 252, 7: 51, 8: 55}\n"
     ]
    },
    {
     "data": {
      "image/png": "[encoded data removed]",
      "text/plain": [
       "<Figure size 640x480 with 1 Axes>"
      ]
     },
     "metadata": {},
     "output_type": "display_data"
    },
    {
     "name": "stdout",
     "output_type": "stream",
     "text": [
      "{0: 2672, 1: 2, 2: 96, 3: 0, 4: 109, 5: 6, 6: 48, 7: 1, 8: 64, 9: 3}\n"
     ]
    },
    {
     "data": {
      "image/png": "[encoded data removed]",
      "text/plain": [
       "<Figure size 640x480 with 1 Axes>"
      ]
     },
     "metadata": {},
     "output_type": "display_data"
    },
    {
     "name": "stdout",
     "output_type": "stream",
     "text": [
      "{0: 2372, 1: 62, 2: 67, 3: 61, 4: 68, 5: 56, 6: 62, 7: 61, 8: 59, 9: 67, 10: 66}\n"
     ]
    },
    {
     "data": {
      "image/png": "[encoded data removed]",
      "text/plain": [
       "<Figure size 640x480 with 1 Axes>"
      ]
     },
     "metadata": {},
     "output_type": "display_data"
    },
    {
     "name": "stdout",
     "output_type": "stream",
     "text": [
      "{0: 2625, 1: 3, 2: 6, 3: 0, 4: 148, 5: 2, 6: 53, 7: 0, 8: 151, 9: 7, 10: 6, 11: 0}\n"
     ]
    },
    {
     "data": {
      "image/png": "[encoded data removed]",
      "text/plain": [
       "<Figure size 640x480 with 1 Axes>"
      ]
     },
     "metadata": {},
     "output_type": "display_data"
    }
   ],
   "source": [
    "def CatalanNotRecursiveModreturnList(A,B,m):\n",
    "    c = [1,1]\n",
    "    for k in range(2,B+1):\n",
    "        c.append(0)\n",
    "        for i in range(k):\n",
    "            c[-1] += (c[i]*c[k-i-1])%m\n",
    "        c[-1] %= m\n",
    "    return c\n",
    "\n",
    "def showPlotBaseM(N,M):\n",
    "    Y=sorted(CatalanNotRecursiveModreturnList(1,N,M))\n",
    "    plt.hist(Y, bins= [k-0.5 for k in range(M+1)], density=True, ec='k')\n",
    "    print({k: Y.count(k) for k in range(M)})\n",
    "    plt.title(\"Frequency of last digits of Catalan numbers in base \" + str(M))\n",
    "    plt.show()\n",
    "\n",
    "for i in range(2,13):\n",
    "    showPlotBaseM(3000,i)"
   ]
  },
  {
   "cell_type": "markdown",
   "metadata": {},
   "source": [
    "<div markdown=1 class=\"Answers\"> \n",
    "\n",
    "We notice that for bases like $4,8,12$ we have the same conjecture as for the base $10$. However for most of the bases, we notice that each digit has appeared couple of times in $C_1,\\ldots,C_{3000}$. We also notice that there the distribution of last digits in any bases are mostly in $0$.\n",
    "\n",
    "I would like to conjecture that Catalan numbers in any base $n$, will have a probability of the last digit being zero, near to $1$. \n",
    "\n",
    "That is for any given $N$, $c_n$ is most likely to divisible by $N$, as $n$ tends to infinity. (This conjecture is most likely true for prime numbers)"
   ]
  },
  {
   "cell_type": "markdown",
   "metadata": {},
   "source": [
    "<a id=\"closed\"></a>\n",
    "## Closed Formula"
   ]
  },
  {
   "cell_type": "markdown",
   "metadata": {},
   "source": [
    "We notice that there is another formula for Catalan numbers, which is:\n",
    "$$c_n = \\frac{1}{n+1}\\binom{2n}{n}$$\n",
    "We will prove it in two ways: a combinatorial way, and an analytic way"
   ]
  },
  {
   "cell_type": "markdown",
   "metadata": {},
   "source": [
    "<div markdown=1 class=\"Prop\"> Combinatorial Way. Part 1\n",
    "\n",
    "Prove that the number of paths from $(0,0)$ to $(k,n)$ using moves $(1,0)$ and $(0,1)$ is:\n",
    "$$\\binom{k+n}{n}.$$\n"
   ]
  },
  {
   "cell_type": "markdown",
   "metadata": {},
   "source": [
    "<div markdown=1 class=\"Answers\"> \n",
    "\n",
    "We will have $k$ moves $(1,0)$ and $n$ moves $(0,1)$. And we see that the paths can be constructed as some order of moves. So we can order $k$ moves $(1,0)$ in $k+n$ places, and thus we have $\\binom{k+n}{n}$ ways to construct the paths."
   ]
  },
  {
   "cell_type": "markdown",
   "metadata": {},
   "source": [
    "<div markdown=1 class=\"Prop\"> Combinatorial Way. Part 2\n",
    "\n",
    "Prove that the Catalan number is equal to \n",
    "$$c_n = \\binom{2n}{n} - \\binom{2n}{n-1} = \\frac{1}{n+1} \\binom{2n}{n}.$$"
   ]
  },
  {
   "cell_type": "markdown",
   "metadata": {},
   "source": [
    "<div markdown=1 class=\"Answers\"> \n",
    "\n",
    "We notice that the Catalan numbers count the number of paths from $(0,0)$ to $(n,n)$, and not crossing the diagonal (The first interepretation of Catalan numbers). Thus if we want to find these paths, we need to eliminate paths from $(0,0)$ to $(n,n)$, which cross the diagonal. We can charaterize it with the paths that at some point the paths intersect the line $y = x-1$ (one below the diagonal). Thus we notice that if we reflect that path from the point of intersection to the end, w.r.t. to the line $y = x-1$, then we will get:\n",
    "A path from $(0,0)$ to $(n+1,n-1)$ using moves $(0,1)$ and $(1,0)$. We notice then the number of these paths is\n",
    "$$\\binom{n-1+n+1}{n-1} = \\binom{2n}{n-1},$$\n",
    "thus we conclude that the Catalan number is equal to\n",
    "$$c_n = \\frac{1}{n+1}\\binom{2n}{n}.$$"
   ]
  },
  {
   "cell_type": "markdown",
   "metadata": {},
   "source": [
    "<div markdown=1 class=\"Prop\"> Analytic Way \n",
    "\n",
    "Using the Binomial expansion $(1+x)^\\alpha$, find the closed formula of the Catalan numbers.\n",
    "\n",
    "$$(1+x)^\\alpha = \\sum_{n=0}^\\infty \\binom{\\alpha}{n}x^n = 1 + \\alpha x + \\frac{\\alpha(\\alpha-1)}{2}x^2 + \\ldots,$$\n",
    "where \n",
    "$$\\binom{\\alpha}{n} = \\frac{\\alpha(\\alpha-1)\\cdot\\ldots\\cdot(\\alpha-n+1)}{n!}.$$"
   ]
  },
  {
   "cell_type": "markdown",
   "metadata": {},
   "source": [
    "<div markdown=1 class=\"Answers\"> \n",
    "\n",
    "From generating function part, we know that the generating function of Catalan numbers is:\n",
    "$$\\mathcal{C}(x) = \\frac{1-\\sqrt{1-4x}}{2x}.$$\n",
    "Thus we need to focus on the expansion of $\\sqrt{1-4x}$, we have:\n",
    "$$1-\\sqrt{1-4x} = 1-(1-4x)^{1/2} = 1-\\sum_{n=0}^\\infty \\binom{\\frac{1}{2}}{n} (-4x)^n = -\\sum_{n=1}^\\infty \\binom{\\frac{1}{2}}{n}(-4x)^n= -\\sum_{n=0}^\\infty \\binom{\\frac{1}{2}}{n+1}(-4x)^{n+1}.$$\n",
    "we notice that:\n",
    "$$\\binom{1/2}{n+1} = \\frac{1/2(1/2-1)(1/2-2)\\ldots(1/2-n)}{(n+1)!} = \\frac{1\\cdot1\\cdot3\\cdot5\\cdot\\ldots\\cdot(2n-1)}{-(-2)^{n+1}\\cdot (n+1)!} = \\frac{1\\cdot2\\cdot3\\cdot4\\cdot5\\cdot\\ldots\\cdot(2n-1)\\cdot2n}{(-1)^n\\cdot2^{2n+1}\\cdot (n+1)!\\cdot n!} = \\frac{(-1)^n}{2\\cdot4^n}\\cdot\\frac{1}{n+1}\\cdot\\binom{2n}{n}.$$\n",
    "Therefore\n",
    "$$\\mathcal{C}(x) = \\frac{1-\\sqrt{1-4x}}{2x} = =-\\frac{1}{2x}\\sum_{n=0}^\\infty \\frac{(-1)^n}{2\\cdot4^n}\\cdot\\frac{1}{n+1}\\cdot\\binom{2n}{n} \\cdot (-4x)^{n+1} = \\sum_{n=0}^\\infty \\frac{1}{n+1}\\binom{2n}{n}x^n.$$\n",
    "Thus we conclude that $c_n = \\frac{1}{n+1}\\binom{2n}{n}$."
   ]
  },
  {
   "cell_type": "markdown",
   "metadata": {},
   "source": [
    "<a id=\"Asymptotics2\"></a>\n",
    "## More on asymptotic analysis"
   ]
  },
  {
   "cell_type": "markdown",
   "metadata": {},
   "source": [
    "We will analyze more the asymptotics of Catalan numbers. We observed the inequality below:\n",
    "$$\n",
    "\\frac{4^n}{\\sqrt{\\pi n^3}}\\big(1-\\frac{9}{8n}\\big) \\leq c_n \\leq \\frac{4^n}{\\sqrt{\\pi n^3}}\n",
    "$$\n",
    "And this motivates to prove the following asymptotic:\n",
    "$$c_n \\sim \\frac{4^n}{\\sqrt{\\pi n^3}}.$$"
   ]
  },
  {
   "cell_type": "markdown",
   "metadata": {},
   "source": [
    "<div markdown=1 class=\"Prop\"> Stirling Formula.\n",
    "\n",
    "Using the Stirling formula, prove the asymptotic of Catalan numbers.$$n! \\sim \\sqrt{2\\pi n} \\Big(\\frac{n}{e}\\Big)^n$$"
   ]
  },
  {
   "cell_type": "markdown",
   "metadata": {},
   "source": [
    "<div markdown=1 class=\"Answers\"> \n",
    "\n",
    "We have the closed formula of Catalan numbers:\n",
    "\n",
    "$$c_n = \\frac{1}{n+1}\\binom{2n}{n} = \\frac{(2n)!}{(n+1)\\cdot (n!)^2} \\sim \\frac{\\sqrt{4\\pi n}\\cdot \\frac{(2n)^{2n}}{e^{2n}}}{(n+1)\\cdot(2\\pi n) \\cdot\\frac{n^{2n}}{e^{2n}}} = \\frac{4^n}{(n+1)\\sqrt{\\pi n}} \\sim \\frac{4^n}{\\sqrt{\\pi n^3}}.$$\n",
    "\n",
    "We notice that it checks out with the asymptotic analysis we did in the Generating Function section, as it grows very close to $4^n$."
   ]
  },
  {
   "cell_type": "markdown",
   "metadata": {},
   "source": [
    "<div markdown=1 style=\"background-color: #f7b2eb; border-left: 5px solid #bf15a0; padding: 0.5em; color:#0A2A12; font-weight: bold;font-style: normal;\"> \n",
    "Analysing the asymptotic:"
   ]
  },
  {
   "cell_type": "code",
   "execution_count": 127,
   "metadata": {},
   "outputs": [
    {
     "data": {
      "image/png": "[encoded data removed]",
      "text/plain": [
       "<Figure size 640x480 with 1 Axes>"
      ]
     },
     "metadata": {},
     "output_type": "display_data"
    }
   ],
   "source": [
    "N = 500\n",
    "\n",
    "plt.plot([Cat[n]/(4**n/sqrt(pi*n**3)) for n in range(N)])\n",
    "plt.plot([0,N],[1,1],label='1')\n",
    "\n",
    "plt.show()"
   ]
  },
  {
   "cell_type": "markdown",
   "metadata": {},
   "source": [
    "With this asymptotics we are interested in the series \n",
    "$$\n",
    "\\sum_{n\\geq 0} \\frac{c_n}{4^n}\n",
    "$$\n",
    "We already know that this converges, because we have \n",
    "\n",
    "$$\\frac{c_n}{4^n} \\sim \\frac{1}{\\sqrt\\pi n^{3/2}},~~ \\text{and we know that} ~~ \\sum_{n\\geq0} \\frac{1}{n^{3/2}}$$\n",
    "converges, because $3/2 > 1$."
   ]
  },
  {
   "cell_type": "markdown",
   "metadata": {},
   "source": [
    "<div markdown=1 class=\"Prop\">\n",
    "Prove that the the value of the series is\n",
    "$$\n",
    "\\sum_{n\\geq0} \\frac{c_n}{4^n} = 2.\n",
    "$$"
   ]
  },
  {
   "cell_type": "markdown",
   "metadata": {},
   "source": [
    "<div markdown=1 style=\"background-color: #f7b2eb; border-left: 5px solid #bf15a0; padding: 0.5em; color:#0A2A12; font-weight: bold;font-style: normal;\"> \n",
    "Sympy Solution:"
   ]
  },
  {
   "cell_type": "code",
   "execution_count": 33,
   "metadata": {},
   "outputs": [
    {
     "data": {
      "text/latex": [
       "$\\displaystyle 2$"
      ],
      "text/plain": [
       "2"
      ]
     },
     "execution_count": 33,
     "metadata": {},
     "output_type": "execute_result"
    }
   ],
   "source": [
    "var('k')\n",
    "Sum(catalan(k)/4**k, (k, 0, oo)).doit()"
   ]
  },
  {
   "cell_type": "markdown",
   "metadata": {},
   "source": [
    "<div markdown=1 class=\"Answers\"> \n",
    "\n",
    "We will admit the identity:\n",
    "\n",
    "$$c_n = \\frac{2}{\\pi} 4^n \\int_{-1}^1 t^{2n} \\sqrt{1-t^2}dt,$$\n",
    "then we can prove that\n",
    "\n",
    "$$\\sum_{n\\geq0}\\frac{c_n}{4^n} = \\sum_{n\\geq0} \\frac{1}{4^n}\\cdot \\frac{2}{\\pi} 4^n \\int_{-1}^1 t^{2n} \\sqrt{1-t^2}dt = \\frac{2}{\\pi} \\int_{-1}^1 \\sum_{n\\geq0}t^{2n}\\sqrt{1-t^2}dt = \\frac{2}{\\pi} \\int_{-1}^1 \\frac{1}{1-t^2}\\sqrt{1-t^2}dt = \\frac{2}{\\pi}\\int_{-1}^1 \\frac{1}{\\sqrt{1-t^2}}dt = \\frac{2}{\\pi}(\\arcsin(1) - \\arcsin(-1)) = 2.$$\n",
    "\n",
    "There is also a probabilistic proof, which we won't cover due to the time constraint."
   ]
  },
  {
   "cell_type": "markdown",
   "metadata": {},
   "source": [
    "<a id=\"divisible\"></a>\n",
    "## Divisibility of Catalan numbers"
   ]
  },
  {
   "cell_type": "markdown",
   "metadata": {},
   "source": [
    "<div markdown=1 class=\"Prop\"> Prove that all odd Catalan numbers are when $n=2^k-1$, the rest is even."
   ]
  },
  {
   "cell_type": "code",
   "execution_count": 34,
   "metadata": {},
   "outputs": [
    {
     "name": "stdout",
     "output_type": "stream",
     "text": [
      "[0, 1, 3, 7, 15, 31, 63, 127, 255, 511, 1023]\n",
      "[0, 1, 3, 7, 15, 31, 63, 127, 255, 511, 1023]\n"
     ]
    }
   ],
   "source": [
    "def oddCatalan(N):\n",
    "    L = []\n",
    "    for n in range(N):\n",
    "        if Cat[n] % 2 == 1:\n",
    "            L.append(n)\n",
    "    return L\n",
    "bound = 2000\n",
    "print(oddCatalan(bound))\n",
    "print([2**k-1 for k in range(100) if 2**k-1 <= bound])"
   ]
  },
  {
   "cell_type": "markdown",
   "metadata": {},
   "source": [
    "<div markdown=1 class=\"Prop\"> To see if the Catalan number is odd we will use the p-adic valuations of numbers\n",
    "\n",
    "We define $\\nu_p(n)$ to be the largest exponent of $p$ that divides $n$, i.e. if $k = \\nu_p(n)$, then $p^k | n$, but $p^{k+1} \\nmid n$.\n",
    "\n",
    "By admitting the following property:\n",
    "\n",
    "$\\nu_p(n!) = n - s_p(n)$, where $s_p(n)$ is the sum of the digits of $n$ in base $p$.\n",
    "\n",
    "Find all odd Catalan numbers."
   ]
  },
  {
   "cell_type": "markdown",
   "metadata": {},
   "source": [
    "<div markdown=1 class=\"Answers\"> \n",
    "\n",
    "We can now notice that we can calculate the $2$-adic valuation of the Catalan numbers:\n",
    "\n",
    "$$\n",
    "\\nu_2(c_n) = \\nu_2\\Big(\\frac{1}{n+1}\\binom{2n}{n}\\Big) = \\nu_2((2n)!) - \\nu_2((n!)) - \\nu_2((n+1)!) = 2n - s_2(2n) - (n - s_2(n)) - (n+1 - s_2(n+1)) = s_2(n+1) + s_2(n) - s_2(2n)\n",
    "$$\n",
    "We notice that the sum of digits of $n$ and $2n$ in base $2$ will be the same, thus $\\nu_2(c_n) = s_2(n+1)-1$. And we see that if we want $c_n$ to be odd, then we need to have $\\nu_2(c_n) = s_2(n+1) - 1= 0$, thus the sum of digits of $n+1$ in base $2$ must be equal to $1$. So $n = 2^k - 1$ for some integer $k$.\n",
    "\n",
    "This also explains why we were encountering in the most part only even Catalan numbers."
   ]
  },
  {
   "cell_type": "markdown",
   "metadata": {},
   "source": [
    "<div markdown=1 class=\"Prop\">\n",
    "The only prime Catalan numbers are $2$ and $5$.\n",
    "\n",
    "Due to the time constraint we won't give the proof, but there is an algorithm that supports this claim"
   ]
  },
  {
   "cell_type": "code",
   "execution_count": 35,
   "metadata": {},
   "outputs": [
    {
     "name": "stdout",
     "output_type": "stream",
     "text": [
      "n = 2 : 2\n",
      "n = 3 : 5\n"
     ]
    }
   ],
   "source": [
    "def IsPrime(n):\n",
    "    if n <= 1:\n",
    "        return False\n",
    "    d = 2\n",
    "    while d * d <= n:\n",
    "        if n % d == 0:\n",
    "            return False\n",
    "        d+=1\n",
    "    return True\n",
    "\n",
    "N = 500\n",
    "for n in range(N):\n",
    "    if IsPrime(Cat[n]):\n",
    "        print(f'n = {n} : {Cat[n]}')"
   ]
  },
  {
   "cell_type": "markdown",
   "metadata": {},
   "source": [
    "<a id=\"Miscellaneous\"></a>\n",
    "## Miscellaneous"
   ]
  },
  {
   "cell_type": "markdown",
   "metadata": {},
   "source": [
    "<div markdown=1 class=\"Prop\">\n",
    "\n",
    "From the source https://www.sciencedirect.com/science/article/pii/S2346809218300758 we have that \n",
    "\n",
    "$$\\sum_{n\\geq0} \\frac{1}{c_n} = 2 + \\frac{4\\sqrt3 \\pi}{27}$$\n",
    "\n",
    "More specifically:\n",
    "\n",
    "$$\\sum_{n\\geq0} \\frac{x^n}{c_n} = \\frac{2(x+8)}{(4-x)^2} + \\frac{24\\sqrt x \\arcsin(\\frac{1}{2}\\sqrt x)}{(4-x)^{5/2}}$$\n",
    "This can be also found by SymPy:"
   ]
  },
  {
   "cell_type": "code",
   "execution_count": 36,
   "metadata": {},
   "outputs": [
    {
     "data": {
      "text/latex": [
       "$\\displaystyle \\frac{4 \\sqrt{3} \\pi}{27} + 2$"
      ],
      "text/plain": [
       "4*sqrt(3)*pi/27 + 2"
      ]
     },
     "execution_count": 36,
     "metadata": {},
     "output_type": "execute_result"
    }
   ],
   "source": [
    "var('n')\n",
    "\n",
    "Sum(1/catalan(n), (n,0,oo)).doit()"
   ]
  },
  {
   "cell_type": "code",
   "execution_count": 37,
   "metadata": {},
   "outputs": [
    {
     "data": {
      "text/latex": [
       "$\\displaystyle \\begin{cases} \\frac{3 \\sqrt{x} \\operatorname{asin}{\\left(\\frac{\\sqrt{x}}{2} \\right)}}{2 \\sqrt{1 - \\frac{x}{4}} \\left(\\frac{x^{2}}{8} - x + 2\\right)} + \\frac{\\frac{x}{4} + 2}{\\frac{x^{2}}{8} - x + 2} & \\text{for}\\: \\left|{x}\\right| < 4 \\\\\\sum_{n=0}^{\\infty} \\frac{x^{n}}{C_{n}} & \\text{otherwise} \\end{cases}$"
      ],
      "text/plain": [
       "Piecewise((3*sqrt(x)*asin(sqrt(x)/2)/(2*sqrt(1 - x/4)*(x**2/8 - x + 2)) + (x/4 + 2)/(x**2/8 - x + 2), Abs(x) < 4), (Sum(x**n/catalan(n), (n, 0, oo)), True))"
      ]
     },
     "execution_count": 37,
     "metadata": {},
     "output_type": "execute_result"
    }
   ],
   "source": [
    "var('x n')\n",
    "\n",
    "Sum(x**n/catalan(n), (n,0,oo)).doit()"
   ]
  },
  {
   "cell_type": "markdown",
   "metadata": {},
   "source": [
    "<div markdown=1 class=\"Prop\">\n",
    "The matrix entry $c_n = (A^{2n})_{11}$, where $A = (a_{ij})_{i,j\\geq1}$ is the tridiagonal matrix defined by $a_{i,i−1} = a_{i,i+1} = 1$, and $a_{ij} = 0$ otherwise"
   ]
  },
  {
   "cell_type": "code",
   "execution_count": 38,
   "metadata": {},
   "outputs": [],
   "source": [
    "def MatrixCatalan(n):\n",
    "    if n <= 0:\n",
    "        return 1\n",
    "    M = np.zeros((n+1, n+1))\n",
    "    for i in range(1,n+1):\n",
    "        M[i][i-1] = 1\n",
    "    for i in range(n):\n",
    "        M[i][i+1] = 1\n",
    "    return (linalg.matrix_power(M,2*n))[0][0]"
   ]
  },
  {
   "cell_type": "code",
   "execution_count": 39,
   "metadata": {
    "scrolled": true
   },
   "outputs": [
    {
     "name": "stdout",
     "output_type": "stream",
     "text": [
      "n = 0 : True\n",
      "n = 1 : True\n",
      "n = 2 : True\n",
      "n = 3 : True\n",
      "n = 4 : True\n",
      "n = 5 : True\n",
      "n = 6 : True\n",
      "n = 7 : True\n",
      "n = 8 : True\n",
      "n = 9 : True\n",
      "n = 10 : True\n",
      "n = 11 : True\n",
      "n = 12 : True\n",
      "n = 13 : True\n",
      "n = 14 : True\n",
      "n = 15 : True\n",
      "n = 16 : True\n",
      "n = 17 : True\n",
      "n = 18 : True\n",
      "n = 19 : True\n",
      "n = 20 : True\n",
      "n = 21 : True\n",
      "n = 22 : True\n",
      "n = 23 : True\n",
      "n = 24 : True\n",
      "n = 25 : True\n",
      "n = 26 : True\n",
      "n = 27 : True\n",
      "n = 28 : True\n",
      "n = 29 : True\n"
     ]
    }
   ],
   "source": [
    "N = 30\n",
    "for n in range(N):\n",
    "    print(f'n = {n} : {MatrixCatalan(n) == Cat[n]}')"
   ]
  },
  {
   "cell_type": "markdown",
   "metadata": {},
   "source": [
    "<a href=\"ref\"></a>\n",
    "# References\n",
    "\n",
    "1. https://en.wikipedia.org/wiki/Catalan_number\n",
    "\n",
    "2. https://math.mit.edu/~rstan/transparencies/china.pdf\n",
    "\n",
    "3. https://www.sciencedirect.com/science/article/pii/S2346809218300758\n",
    "\n",
    "4. https://math.mit.edu/~rstan/ec/catadd.pdf"
   ]
  },
  {
   "cell_type": "code",
   "execution_count": null,
   "metadata": {},
   "outputs": [],
   "source": []
  }
 ],
 "metadata": {
  "kernelspec": {
   "display_name": "Python 3 (ipykernel)",
   "language": "python",
   "name": "python3"
  },
  "language_info": {
   "codemirror_mode": {
    "name": "ipython",
    "version": 3
   },
   "file_extension": ".py",
   "mimetype": "text/x-python",
   "name": "python",
   "nbconvert_exporter": "python",
   "pygments_lexer": "ipython3",
   "version": "3.12.5"
  }
 },
 "nbformat": 4,
 "nbformat_minor": 4
}
